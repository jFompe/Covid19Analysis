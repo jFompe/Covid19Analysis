{
 "cells": [
  {
   "cell_type": "code",
   "execution_count": 195,
   "metadata": {},
   "outputs": [
    {
     "name": "stdout",
     "output_type": "stream",
     "text": [
      "(2054, 12)\n"
     ]
    }
   ],
   "source": [
    "import pandas as pd\n",
    "df = pd.read_csv(\"COVID19_data.csv\", index_col=\"ID\")\n",
    "print(df.shape)"
   ]
  },
  {
   "cell_type": "markdown",
   "metadata": {},
   "source": [
    "### Missing values in categorical variables"
   ]
  },
  {
   "cell_type": "code",
   "execution_count": 196,
   "metadata": {},
   "outputs": [
    {
     "name": "stdout",
     "output_type": "stream",
     "text": [
      "SEX Counter({'MALE': 1227, 'FEMALE': 825, nan: 2})\n",
      "EXITUS Counter({'NO': 1684, 'YES': 329, nan: 41})\n",
      "DESTINATION Counter({nan: 1383, 'ADMISSION': 671})\n"
     ]
    }
   ],
   "source": [
    "from collections import Counter\n",
    "\n",
    "for var in df:\n",
    "  if df[var].dtypes == object:\n",
    "    print(var, Counter(df[var]))"
   ]
  },
  {
   "cell_type": "markdown",
   "metadata": {},
   "source": [
    "### Zero values in numerical variables"
   ]
  },
  {
   "cell_type": "code",
   "execution_count": 197,
   "metadata": {},
   "outputs": [
    {
     "name": "stdout",
     "output_type": "stream",
     "text": [
      "AGE 0\n",
      "DAYS_HOSPITAL 21\n",
      "DAYS_ICU 1947\n",
      "TEMP 467\n",
      "HEART_RATE 448\n",
      "GLUCOSE 2035\n",
      "SAT_O2 422\n",
      "BLOOD_PRES_SYS 750\n",
      "BLOOD_PRES_DIAS 750\n"
     ]
    }
   ],
   "source": [
    "for var in df:\n",
    "  if df[var].dtypes != object:\n",
    "    print(var, Counter(df[var])[0])"
   ]
  },
  {
   "cell_type": "markdown",
   "metadata": {},
   "source": [
    "### Relevant variables"
   ]
  },
  {
   "cell_type": "code",
   "execution_count": 198,
   "metadata": {},
   "outputs": [
    {
     "name": "stdout",
     "output_type": "stream",
     "text": [
      "ID\n",
      "1       NO\n",
      "2       NO\n",
      "3       NO\n",
      "4       NO\n",
      "5       NO\n",
      "        ..\n",
      "2050    NO\n",
      "2051    NO\n",
      "2052    NO\n",
      "2053    NO\n",
      "2054    NO\n",
      "Name: EXITUS, Length: 2054, dtype: object\n"
     ]
    }
   ],
   "source": [
    "# No values\n",
    "df.pop(\"GLUCOSE\")\n",
    "df.pop(\"DESTINATION\")\n",
    "\n",
    "# Values to predict\n",
    "days_hosp = df.pop(\"DAYS_HOSPITAL\")\n",
    "days_icu = df.pop(\"DAYS_ICU\")\n",
    "exitus_col = df.pop(\"EXITUS\")\n",
    "\n",
    "print(exitus_col)"
   ]
  },
  {
   "cell_type": "code",
   "execution_count": 199,
   "metadata": {},
   "outputs": [
    {
     "name": "stdout",
     "output_type": "stream",
     "text": [
      "AGE                 True\n",
      "SEX                 True\n",
      "TEMP               False\n",
      "HEART_RATE         False\n",
      "SAT_O2             False\n",
      "BLOOD_PRES_SYS     False\n",
      "BLOOD_PRES_DIAS    False\n",
      "dtype: bool\n"
     ]
    }
   ],
   "source": [
    "print(df.isnull().any())"
   ]
  },
  {
   "cell_type": "markdown",
   "metadata": {},
   "source": [
    "## Categorical Variables"
   ]
  },
  {
   "cell_type": "code",
   "execution_count": 200,
   "metadata": {},
   "outputs": [
    {
     "name": "stdout",
     "output_type": "stream",
     "text": [
      "['SEX']\n"
     ]
    }
   ],
   "source": [
    "# Mask for categorical variables\n",
    "cat_mask = df.dtypes==object\n",
    "\n",
    "cat_cols = df.columns[cat_mask].tolist()\n",
    "print(cat_cols)"
   ]
  },
  {
   "cell_type": "code",
   "execution_count": 201,
   "metadata": {},
   "outputs": [],
   "source": [
    "# Divide in categorical and numeric columns\n",
    "df_cat = df[cat_cols]\n",
    "df_num = df.drop(cat_cols, axis=1)"
   ]
  },
  {
   "cell_type": "code",
   "execution_count": 202,
   "metadata": {},
   "outputs": [],
   "source": [
    "def imput_categorical(cat_var, imputer):\n",
    "  return pd.DataFrame(\n",
    "    imputer.fit_transform(cat_var),\n",
    "    columns=cat_var.columns,\n",
    "    index=cat_var.index\n",
    "  )"
   ]
  },
  {
   "cell_type": "code",
   "execution_count": 203,
   "metadata": {},
   "outputs": [
    {
     "name": "stdout",
     "output_type": "stream",
     "text": [
      "         SEX\n",
      "ID          \n",
      "1     FEMALE\n",
      "2     FEMALE\n",
      "3       MALE\n",
      "4       MALE\n",
      "5       MALE\n",
      "...      ...\n",
      "2050  FEMALE\n",
      "2051  FEMALE\n",
      "2052  FEMALE\n",
      "2053    MALE\n",
      "2054    MALE\n",
      "\n",
      "[2054 rows x 1 columns]\n",
      "SEX    False\n",
      "dtype: bool\n",
      "     EXITUS\n",
      "ID         \n",
      "1        NO\n",
      "2        NO\n",
      "3        NO\n",
      "4        NO\n",
      "5        NO\n",
      "...     ...\n",
      "2050     NO\n",
      "2051     NO\n",
      "2052     NO\n",
      "2053     NO\n",
      "2054     NO\n",
      "\n",
      "[2054 rows x 1 columns]\n",
      "EXITUS    False\n",
      "dtype: bool\n"
     ]
    }
   ],
   "source": [
    "from sklearn.impute import SimpleImputer\n",
    "\n",
    "imp_cat = SimpleImputer(strategy='most_frequent')\n",
    "df_cat = imput_categorical(df_cat, imp_cat)\n",
    "df_exitus = imput_categorical(pd.DataFrame(exitus_col), imp_cat)\n",
    "\n",
    "print(df_cat)\n",
    "print(df_cat.isnull().any())\n",
    "\n",
    "print(df_exitus)\n",
    "print(df_exitus.isna().any())"
   ]
  },
  {
   "cell_type": "code",
   "execution_count": 204,
   "metadata": {},
   "outputs": [],
   "source": [
    "def categorical_to_onehot(cat_var, encoder):\n",
    "  return pd.DataFrame(\n",
    "    encoder.fit_transform(cat_var),\n",
    "    columns=encoder.get_feature_names_out(cat_var.columns.tolist()),\n",
    "    index=cat_var.index\n",
    "  )"
   ]
  },
  {
   "cell_type": "code",
   "execution_count": 205,
   "metadata": {},
   "outputs": [
    {
     "name": "stdout",
     "output_type": "stream",
     "text": [
      "      EXITUS_NO  EXITUS_YES\n",
      "ID                         \n",
      "1           1.0         0.0\n",
      "2           1.0         0.0\n",
      "3           1.0         0.0\n",
      "4           1.0         0.0\n",
      "5           1.0         0.0\n",
      "...         ...         ...\n",
      "2050        1.0         0.0\n",
      "2051        1.0         0.0\n",
      "2052        1.0         0.0\n",
      "2053        1.0         0.0\n",
      "2054        1.0         0.0\n",
      "\n",
      "[2054 rows x 2 columns]\n"
     ]
    }
   ],
   "source": [
    "from sklearn.preprocessing import OneHotEncoder\n",
    "\n",
    "ohe = OneHotEncoder(sparse=False)\n",
    "\n",
    "df_cat_one = categorical_to_onehot(df_cat, ohe)\n",
    "df_exitus_one = categorical_to_onehot(df_exitus, ohe)\n",
    "print(df_exitus_one)"
   ]
  },
  {
   "cell_type": "markdown",
   "metadata": {},
   "source": [
    "## Numerical Variables"
   ]
  },
  {
   "cell_type": "code",
   "execution_count": 206,
   "metadata": {},
   "outputs": [
    {
     "data": {
      "text/plain": [
       "AGE                 True\n",
       "TEMP               False\n",
       "HEART_RATE         False\n",
       "SAT_O2             False\n",
       "BLOOD_PRES_SYS     False\n",
       "BLOOD_PRES_DIAS    False\n",
       "dtype: bool"
      ]
     },
     "execution_count": 206,
     "metadata": {},
     "output_type": "execute_result"
    }
   ],
   "source": [
    "df_num.isna().any()"
   ]
  },
  {
   "cell_type": "code",
   "execution_count": 207,
   "metadata": {},
   "outputs": [
    {
     "data": {
      "text/plain": [
       "AGE                False\n",
       "TEMP               False\n",
       "HEART_RATE         False\n",
       "SAT_O2             False\n",
       "BLOOD_PRES_SYS     False\n",
       "BLOOD_PRES_DIAS    False\n",
       "dtype: bool"
      ]
     },
     "execution_count": 207,
     "metadata": {},
     "output_type": "execute_result"
    }
   ],
   "source": [
    "df_num['AGE'].fillna(0.0, inplace=True)\n",
    "df_num.isna().any()"
   ]
  },
  {
   "cell_type": "code",
   "execution_count": 208,
   "metadata": {},
   "outputs": [
    {
     "name": "stdout",
     "output_type": "stream",
     "text": [
      "AGE                False\n",
      "TEMP               False\n",
      "HEART_RATE         False\n",
      "SAT_O2             False\n",
      "BLOOD_PRES_SYS     False\n",
      "BLOOD_PRES_DIAS    False\n",
      "dtype: bool\n",
      "             AGE       TEMP  HEART_RATE     SAT_O2  BLOOD_PRES_SYS  \\\n",
      "ID                                                                   \n",
      "1      15.000000  37.000000   90.534247  92.000000      131.638037   \n",
      "2      18.000000  37.300000  105.000000  97.000000      131.638037   \n",
      "3      21.000000  38.500000  112.000000  95.000000       85.000000   \n",
      "4      21.000000  39.200000  113.000000  97.000000      131.638037   \n",
      "5      22.000000  36.300000   80.000000  92.000000      111.000000   \n",
      "...          ...        ...         ...        ...             ...   \n",
      "2050  189.000000  36.739445   90.534247  92.376838      131.638037   \n",
      "2051   70.856585  36.500000   90.534247  92.376838      131.638037   \n",
      "2052   70.856585  36.800000  190.000000  98.000000      131.638037   \n",
      "2053   70.856585  36.739445  120.000000  93.000000      131.638037   \n",
      "2054   70.856585  36.800000   90.534247  92.376838      131.638037   \n",
      "\n",
      "      BLOOD_PRES_DIAS  \n",
      "ID                     \n",
      "1           76.124233  \n",
      "2           76.124233  \n",
      "3           47.000000  \n",
      "4           76.124233  \n",
      "5           70.000000  \n",
      "...               ...  \n",
      "2050        76.124233  \n",
      "2051        76.124233  \n",
      "2052        76.124233  \n",
      "2053        76.124233  \n",
      "2054        76.124233  \n",
      "\n",
      "[2054 rows x 6 columns]\n"
     ]
    }
   ],
   "source": [
    "imp_num = SimpleImputer(missing_values=0.0, strategy='mean', fill_value=0.0)\n",
    "df_num = pd.DataFrame(\n",
    "  imp_num.fit_transform(df_num),\n",
    "  columns=df_num.columns,\n",
    "  index=df_num.index\n",
    ")\n",
    "print(df_num.isnull().any())\n",
    "print(df_num)"
   ]
  },
  {
   "cell_type": "markdown",
   "metadata": {},
   "source": [
    "## Merge all the processed variables"
   ]
  },
  {
   "cell_type": "code",
   "execution_count": 214,
   "metadata": {},
   "outputs": [
    {
     "name": "stdout",
     "output_type": "stream",
     "text": [
      "      SEX_FEMALE  SEX_MALE         AGE       TEMP  HEART_RATE     SAT_O2  \\\n",
      "ID                                                                         \n",
      "1            1.0       0.0   15.000000  37.000000   90.534247  92.000000   \n",
      "2            1.0       0.0   18.000000  37.300000  105.000000  97.000000   \n",
      "3            0.0       1.0   21.000000  38.500000  112.000000  95.000000   \n",
      "4            0.0       1.0   21.000000  39.200000  113.000000  97.000000   \n",
      "5            0.0       1.0   22.000000  36.300000   80.000000  92.000000   \n",
      "...          ...       ...         ...        ...         ...        ...   \n",
      "2050         1.0       0.0  189.000000  36.739445   90.534247  92.376838   \n",
      "2051         1.0       0.0   70.856585  36.500000   90.534247  92.376838   \n",
      "2052         1.0       0.0   70.856585  36.800000  190.000000  98.000000   \n",
      "2053         0.0       1.0   70.856585  36.739445  120.000000  93.000000   \n",
      "2054         0.0       1.0   70.856585  36.800000   90.534247  92.376838   \n",
      "\n",
      "      BLOOD_PRES_SYS  BLOOD_PRES_DIAS  \n",
      "ID                                     \n",
      "1         131.638037        76.124233  \n",
      "2         131.638037        76.124233  \n",
      "3          85.000000        47.000000  \n",
      "4         131.638037        76.124233  \n",
      "5         111.000000        70.000000  \n",
      "...              ...              ...  \n",
      "2050      131.638037        76.124233  \n",
      "2051      131.638037        76.124233  \n",
      "2052      131.638037        76.124233  \n",
      "2053      131.638037        76.124233  \n",
      "2054      131.638037        76.124233  \n",
      "\n",
      "[2054 rows x 8 columns]\n"
     ]
    }
   ],
   "source": [
    "df_processed = pd.merge(\n",
    "  left=df_cat_one,\n",
    "  right=df_num,\n",
    "  on='ID'\n",
    ")\n",
    "\n",
    "print(df_processed)"
   ]
  },
  {
   "cell_type": "markdown",
   "metadata": {},
   "source": [
    "## Feature Selection"
   ]
  },
  {
   "cell_type": "code",
   "execution_count": 211,
   "metadata": {},
   "outputs": [
    {
     "name": "stdout",
     "output_type": "stream",
     "text": [
      "             AGE     SAT_O2  BLOOD_PRES_SYS\n",
      "ID                                         \n",
      "1      15.000000  92.000000      131.638037\n",
      "2      18.000000  97.000000      131.638037\n",
      "3      21.000000  95.000000       85.000000\n",
      "4      21.000000  97.000000      131.638037\n",
      "5      22.000000  92.000000      111.000000\n",
      "...          ...        ...             ...\n",
      "2050  189.000000  92.376838      131.638037\n",
      "2051   70.856585  92.376838      131.638037\n",
      "2052   70.856585  98.000000      131.638037\n",
      "2053   70.856585  93.000000      131.638037\n",
      "2054   70.856585  92.376838      131.638037\n",
      "\n",
      "[2054 rows x 3 columns]\n"
     ]
    }
   ],
   "source": [
    "from sklearn.feature_selection import SelectPercentile, mutual_info_classif\n",
    "\n",
    "fs_perc_mi = SelectPercentile(mutual_info_classif, percentile=40)\n",
    "fs_perc_mi.fit(df_processed, df_exitus['EXITUS'])\n",
    "col_filter = fs_perc_mi.get_support()\n",
    "df_perc_mi = df_processed.iloc[:, col_filter]\n",
    "\n",
    "print(df_perc_mi)"
   ]
  },
  {
   "cell_type": "markdown",
   "metadata": {},
   "source": [
    "### Feature Scaling"
   ]
  },
  {
   "cell_type": "code",
   "execution_count": 223,
   "metadata": {},
   "outputs": [
    {
     "name": "stdout",
     "output_type": "stream",
     "text": [
      "[[0.         0.55072464 0.12156337 0.92134831 0.15962997 0.07808661]\n",
      " [0.01724138 0.5942029  0.14685315 0.97752809 0.15962997 0.07808661]\n",
      " [0.03448276 0.76811594 0.15909091 0.95505618 0.0984252  0.04316547]\n",
      " ...\n",
      " [0.32101486 0.52173913 0.29545455 0.98876404 0.15962997 0.07808661]\n",
      " [0.32101486 0.51296312 0.17307692 0.93258427 0.15962997 0.07808661]\n",
      " [0.32101486 0.52173913 0.12156337 0.92558245 0.15962997 0.07808661]]\n"
     ]
    }
   ],
   "source": [
    "from sklearn.preprocessing import MinMaxScaler\n",
    "\n",
    "mms = MinMaxScaler()\n",
    "df_num_mms = mms.fit_transform(df_num)\n",
    "print(df_num_mms)"
   ]
  }
 ],
 "metadata": {
  "interpreter": {
   "hash": "f9f85f796d01129d0dd105a088854619f454435301f6ffec2fea96ecbd9be4ac"
  },
  "kernelspec": {
   "display_name": "Python 3.9.5 64-bit",
   "language": "python",
   "name": "python3"
  },
  "language_info": {
   "codemirror_mode": {
    "name": "ipython",
    "version": 3
   },
   "file_extension": ".py",
   "mimetype": "text/x-python",
   "name": "python",
   "nbconvert_exporter": "python",
   "pygments_lexer": "ipython3",
   "version": "3.9.9"
  },
  "orig_nbformat": 4
 },
 "nbformat": 4,
 "nbformat_minor": 2
}
