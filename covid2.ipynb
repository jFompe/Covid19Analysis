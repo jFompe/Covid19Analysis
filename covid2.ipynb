{
 "cells": [
  {
   "cell_type": "code",
   "execution_count": 80,
   "metadata": {},
   "outputs": [
    {
     "name": "stdout",
     "output_type": "stream",
     "text": [
      "(2054, 12)\n"
     ]
    }
   ],
   "source": [
    "import pandas as pd\n",
    "df = pd.read_csv(\"COVID19_data.csv\", index_col=\"ID\")\n",
    "print(df.shape)"
   ]
  },
  {
   "cell_type": "markdown",
   "metadata": {},
   "source": [
    "### Missing values in categorical variables"
   ]
  },
  {
   "cell_type": "code",
   "execution_count": 92,
   "metadata": {},
   "outputs": [
    {
     "name": "stdout",
     "output_type": "stream",
     "text": [
      "SEX Counter({'MALE': 1227, 'FEMALE': 825, nan: 2})\n",
      "EXITUS Counter({'NO': 1684, 'YES': 329, nan: 41})\n",
      "DESTINATION Counter({nan: 1383, 'ADMISSION': 671})\n"
     ]
    }
   ],
   "source": [
    "from collections import Counter\n",
    "\n",
    "for var in df:\n",
    "  if df[var].dtypes == object:\n",
    "    print(var, Counter(df[var]))"
   ]
  },
  {
   "cell_type": "markdown",
   "metadata": {},
   "source": [
    "### Zero values in numerical variables"
   ]
  },
  {
   "cell_type": "code",
   "execution_count": 78,
   "metadata": {},
   "outputs": [
    {
     "name": "stdout",
     "output_type": "stream",
     "text": [
      "AGE 0\n",
      "DAYS_HOSPITAL 21\n",
      "DAYS_ICU 1947\n",
      "TEMP 467\n",
      "HEART_RATE 448\n",
      "GLUCOSE 2035\n",
      "SAT_O2 422\n",
      "BLOOD_PRES_SYS 750\n",
      "BLOOD_PRES_DIAS 750\n"
     ]
    }
   ],
   "source": [
    "for var in df:\n",
    "  if df[var].dtypes != object:\n",
    "    print(var, Counter(df[var])[0])"
   ]
  },
  {
   "cell_type": "markdown",
   "metadata": {},
   "source": [
    "### Relevant variables"
   ]
  },
  {
   "cell_type": "code",
   "execution_count": 57,
   "metadata": {},
   "outputs": [
    {
     "name": "stdout",
     "output_type": "stream",
     "text": [
      "ID\n",
      "1       NO\n",
      "2       NO\n",
      "3       NO\n",
      "4       NO\n",
      "5       NO\n",
      "        ..\n",
      "2050    NO\n",
      "2051    NO\n",
      "2052    NO\n",
      "2053    NO\n",
      "2054    NO\n",
      "Name: EXITUS, Length: 2054, dtype: object\n"
     ]
    }
   ],
   "source": [
    "# No values\n",
    "df.pop(\"GLUCOSE\")\n",
    "df.pop(\"DESTINATION\")\n",
    "\n",
    "# Values to predict\n",
    "days_hosp = df.pop(\"DAYS_HOSPITAL\")\n",
    "days_icu = df.pop(\"DAYS_ICU\")\n",
    "exitus_col = df.pop(\"EXITUS\")\n",
    "\n",
    "print(exitus_col)"
   ]
  },
  {
   "cell_type": "code",
   "execution_count": 19,
   "metadata": {},
   "outputs": [
    {
     "name": "stdout",
     "output_type": "stream",
     "text": [
      "AGE                 True\n",
      "SEX                 True\n",
      "TEMP               False\n",
      "HEART_RATE         False\n",
      "SAT_O2             False\n",
      "BLOOD_PRES_SYS     False\n",
      "BLOOD_PRES_DIAS    False\n",
      "dtype: bool\n"
     ]
    }
   ],
   "source": [
    "print(df.isnull().any())"
   ]
  },
  {
   "cell_type": "markdown",
   "metadata": {},
   "source": [
    "## Categorical Variables"
   ]
  },
  {
   "cell_type": "code",
   "execution_count": 23,
   "metadata": {},
   "outputs": [
    {
     "name": "stdout",
     "output_type": "stream",
     "text": [
      "['SEX']\n"
     ]
    }
   ],
   "source": [
    "# Mask for categorical variables\n",
    "cat_mask = df.dtypes==object\n",
    "\n",
    "cat_cols = df.columns[cat_mask].tolist()\n",
    "print(cat_cols)"
   ]
  },
  {
   "cell_type": "code",
   "execution_count": 26,
   "metadata": {},
   "outputs": [],
   "source": [
    "# Divide in categorical and numeric columns\n",
    "df_cat = df[cat_cols]\n",
    "df_num = df.drop(cat_cols, axis=1)"
   ]
  },
  {
   "cell_type": "code",
   "execution_count": 101,
   "metadata": {},
   "outputs": [],
   "source": [
    "def imput_categorical(cat_var, imputer):\n",
    "  return pd.DataFrame(\n",
    "    imputer.fit_transform(cat_var),\n",
    "    columns=cat_var.columns,\n",
    "    index=cat_var.index\n",
    "  )"
   ]
  },
  {
   "cell_type": "code",
   "execution_count": 107,
   "metadata": {},
   "outputs": [
    {
     "name": "stdout",
     "output_type": "stream",
     "text": [
      "         SEX\n",
      "ID          \n",
      "1     FEMALE\n",
      "2     FEMALE\n",
      "3       MALE\n",
      "4       MALE\n",
      "5       MALE\n",
      "...      ...\n",
      "2050  FEMALE\n",
      "2051  FEMALE\n",
      "2052  FEMALE\n",
      "2053    MALE\n",
      "2054    MALE\n",
      "\n",
      "[2054 rows x 1 columns]\n",
      "SEX    False\n",
      "dtype: bool\n",
      "     EXITUS\n",
      "ID         \n",
      "1        NO\n",
      "2        NO\n",
      "3        NO\n",
      "4        NO\n",
      "5        NO\n",
      "...     ...\n",
      "2050     NO\n",
      "2051     NO\n",
      "2052     NO\n",
      "2053     NO\n",
      "2054     NO\n",
      "\n",
      "[2054 rows x 1 columns]\n",
      "EXITUS    False\n",
      "dtype: bool\n"
     ]
    }
   ],
   "source": [
    "from sklearn.impute import SimpleImputer\n",
    "\n",
    "imp_cat = SimpleImputer(strategy='most_frequent')\n",
    "df_cat = imput_categorical(df_cat, imp_cat)\n",
    "df_exitus = imput_categorical(pd.DataFrame(exitus_col), imp_cat)\n",
    "\n",
    "print(df_cat)\n",
    "print(df_cat.isnull().any())\n",
    "\n",
    "print(df_exitus)\n",
    "print(df_exitus.isna().any())"
   ]
  },
  {
   "cell_type": "code",
   "execution_count": 109,
   "metadata": {},
   "outputs": [],
   "source": [
    "def categorical_to_onehot(cat_var, encoder):\n",
    "  return pd.DataFrame(\n",
    "    encoder.fit_transform(cat_var),\n",
    "    columns=encoder.get_feature_names_out(cat_var.columns.tolist()),\n",
    "    index=cat_var.index\n",
    "  )"
   ]
  },
  {
   "cell_type": "code",
   "execution_count": 110,
   "metadata": {},
   "outputs": [
    {
     "name": "stdout",
     "output_type": "stream",
     "text": [
      "      EXITUS_NO  EXITUS_YES\n",
      "ID                         \n",
      "1           1.0         0.0\n",
      "2           1.0         0.0\n",
      "3           1.0         0.0\n",
      "4           1.0         0.0\n",
      "5           1.0         0.0\n",
      "...         ...         ...\n",
      "2050        1.0         0.0\n",
      "2051        1.0         0.0\n",
      "2052        1.0         0.0\n",
      "2053        1.0         0.0\n",
      "2054        1.0         0.0\n",
      "\n",
      "[2054 rows x 2 columns]\n"
     ]
    }
   ],
   "source": [
    "from sklearn.preprocessing import OneHotEncoder\n",
    "\n",
    "ohe = OneHotEncoder(sparse=False)\n",
    "\n",
    "df_cat_one = categorical_to_onehot(df_cat, ohe)\n",
    "df_exitus_one = categorical_to_onehot(df_exitus, ohe)\n",
    "print(df_exitus_one)"
   ]
  },
  {
   "cell_type": "markdown",
   "metadata": {},
   "source": [
    "## Numerical Variables"
   ]
  },
  {
   "cell_type": "code",
   "execution_count": 96,
   "metadata": {},
   "outputs": [
    {
     "name": "stdout",
     "output_type": "stream",
     "text": [
      "AGE                False\n",
      "TEMP               False\n",
      "HEART_RATE         False\n",
      "SAT_O2             False\n",
      "BLOOD_PRES_SYS     False\n",
      "BLOOD_PRES_DIAS    False\n",
      "dtype: bool\n"
     ]
    }
   ],
   "source": [
    "imp_num = SimpleImputer(strategy='mean')\n",
    "df_num = pd.DataFrame(\n",
    "  imp_num.fit_transform(df_num),\n",
    "  columns=df_num.columns,\n",
    "  index=df_num.index\n",
    ")\n",
    "print(df_num.isnull().any())"
   ]
  },
  {
   "cell_type": "markdown",
   "metadata": {},
   "source": [
    "## Merge all the processed variables"
   ]
  },
  {
   "cell_type": "code",
   "execution_count": 97,
   "metadata": {},
   "outputs": [
    {
     "name": "stdout",
     "output_type": "stream",
     "text": [
      "      SEX_FEMALE  SEX_MALE         AGE  TEMP  HEART_RATE  SAT_O2  \\\n",
      "ID                                                                 \n",
      "1            1.0       0.0   15.000000  37.0         0.0    92.0   \n",
      "2            1.0       0.0   18.000000  37.3       105.0    97.0   \n",
      "3            0.0       1.0   21.000000  38.5       112.0    95.0   \n",
      "4            0.0       1.0   21.000000  39.2       113.0    97.0   \n",
      "5            0.0       1.0   22.000000  36.3        80.0    92.0   \n",
      "...          ...       ...         ...   ...         ...     ...   \n",
      "2050         1.0       0.0  189.000000   0.0         0.0     0.0   \n",
      "2051         1.0       0.0   70.856585  36.5         0.0     0.0   \n",
      "2052         1.0       0.0   70.856585  36.8       190.0    98.0   \n",
      "2053         0.0       1.0   70.856585   0.0       120.0    93.0   \n",
      "2054         0.0       1.0   70.856585  36.8         0.0     0.0   \n",
      "\n",
      "      BLOOD_PRES_SYS  BLOOD_PRES_DIAS  \n",
      "ID                                     \n",
      "1                0.0              0.0  \n",
      "2                0.0              0.0  \n",
      "3               85.0             47.0  \n",
      "4                0.0              0.0  \n",
      "5              111.0             70.0  \n",
      "...              ...              ...  \n",
      "2050             0.0              0.0  \n",
      "2051             0.0              0.0  \n",
      "2052             0.0              0.0  \n",
      "2053             0.0              0.0  \n",
      "2054             0.0              0.0  \n",
      "\n",
      "[2054 rows x 8 columns]\n"
     ]
    }
   ],
   "source": [
    "df_processed = pd.merge(\n",
    "  left=df_cat_one,\n",
    "  right=df_num,\n",
    "  on='ID'\n",
    ")\n",
    "\n",
    "print(df_processed)"
   ]
  },
  {
   "cell_type": "markdown",
   "metadata": {},
   "source": [
    "## Feature Selection"
   ]
  },
  {
   "cell_type": "code",
   "execution_count": 115,
   "metadata": {},
   "outputs": [
    {
     "name": "stdout",
     "output_type": "stream",
     "text": [
      "             AGE  TEMP  SAT_O2  BLOOD_PRES_SYS\n",
      "ID                                            \n",
      "1      15.000000  37.0    92.0             0.0\n",
      "2      18.000000  37.3    97.0             0.0\n",
      "3      21.000000  38.5    95.0            85.0\n",
      "4      21.000000  39.2    97.0             0.0\n",
      "5      22.000000  36.3    92.0           111.0\n",
      "...          ...   ...     ...             ...\n",
      "2050  189.000000   0.0     0.0             0.0\n",
      "2051   70.856585  36.5     0.0             0.0\n",
      "2052   70.856585  36.8    98.0             0.0\n",
      "2053   70.856585   0.0    93.0             0.0\n",
      "2054   70.856585  36.8     0.0             0.0\n",
      "\n",
      "[2054 rows x 4 columns]\n"
     ]
    }
   ],
   "source": [
    "from sklearn.feature_selection import SelectKBest, chi2\n",
    "\n",
    "fs_k_best_chi2 = SelectKBest(chi2, k=4)\n",
    "fs_k_best_chi2.fit(df_processed, df_exitus_one)\n",
    "col_filter = fs_k_best_chi2.get_support()\n",
    "df_k_best_chi2 = df_processed.iloc[:, col_filter]\n",
    "\n",
    "print(df_k_best_chi2)"
   ]
  },
  {
   "cell_type": "code",
   "execution_count": 114,
   "metadata": {},
   "outputs": [
    {
     "name": "stdout",
     "output_type": "stream",
     "text": [
      "             AGE  SAT_O2  BLOOD_PRES_SYS\n",
      "ID                                      \n",
      "1      15.000000    92.0             0.0\n",
      "2      18.000000    97.0             0.0\n",
      "3      21.000000    95.0            85.0\n",
      "4      21.000000    97.0             0.0\n",
      "5      22.000000    92.0           111.0\n",
      "...          ...     ...             ...\n",
      "2050  189.000000     0.0             0.0\n",
      "2051   70.856585     0.0             0.0\n",
      "2052   70.856585    98.0             0.0\n",
      "2053   70.856585    93.0             0.0\n",
      "2054   70.856585     0.0             0.0\n",
      "\n",
      "[2054 rows x 3 columns]\n"
     ]
    }
   ],
   "source": [
    "from sklearn.feature_selection import SelectPercentile, mutual_info_classif\n",
    "\n",
    "fs_perc_mi = SelectPercentile(mutual_info_classif, percentile=40)\n",
    "fs_perc_mi.fit(df_processed, df_exitus['EXITUS'])\n",
    "col_filter = fs_perc_mi.get_support()\n",
    "df_perc_mi = df_processed.iloc[:, col_filter]\n",
    "\n",
    "print(df_perc_mi)"
   ]
  }
 ],
 "metadata": {
  "interpreter": {
   "hash": "f9f85f796d01129d0dd105a088854619f454435301f6ffec2fea96ecbd9be4ac"
  },
  "kernelspec": {
   "display_name": "Python 3.9.5 64-bit",
   "language": "python",
   "name": "python3"
  },
  "language_info": {
   "codemirror_mode": {
    "name": "ipython",
    "version": 3
   },
   "file_extension": ".py",
   "mimetype": "text/x-python",
   "name": "python",
   "nbconvert_exporter": "python",
   "pygments_lexer": "ipython3",
   "version": "3.9.9"
  },
  "orig_nbformat": 4
 },
 "nbformat": 4,
 "nbformat_minor": 2
}
