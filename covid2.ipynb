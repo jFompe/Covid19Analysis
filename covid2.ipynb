{
 "cells": [
  {
   "cell_type": "code",
   "execution_count": 256,
   "metadata": {},
   "outputs": [
    {
     "name": "stdout",
     "output_type": "stream",
     "text": [
      "(2054, 12)\n"
     ]
    }
   ],
   "source": [
    "import pandas as pd\n",
    "df = pd.read_csv(\"COVID19_data.csv\", index_col=\"ID\")\n",
    "print(df.shape)"
   ]
  },
  {
   "cell_type": "markdown",
   "metadata": {},
   "source": [
    "### Missing values in categorical variables"
   ]
  },
  {
   "cell_type": "code",
   "execution_count": 257,
   "metadata": {},
   "outputs": [
    {
     "name": "stdout",
     "output_type": "stream",
     "text": [
      "SEX Counter({'MALE': 1227, 'FEMALE': 825, nan: 2})\n",
      "EXITUS Counter({'NO': 1684, 'YES': 329, nan: 41})\n",
      "DESTINATION Counter({nan: 1383, 'ADMISSION': 671})\n"
     ]
    }
   ],
   "source": [
    "from collections import Counter\n",
    "\n",
    "for var in df:\n",
    "  if df[var].dtypes == object:\n",
    "    print(var, Counter(df[var]))"
   ]
  },
  {
   "cell_type": "markdown",
   "metadata": {},
   "source": [
    "### Zero values in numerical variables"
   ]
  },
  {
   "cell_type": "code",
   "execution_count": 258,
   "metadata": {},
   "outputs": [
    {
     "name": "stdout",
     "output_type": "stream",
     "text": [
      "AGE 0\n",
      "DAYS_HOSPITAL 21\n",
      "DAYS_ICU 1947\n",
      "TEMP 467\n",
      "HEART_RATE 448\n",
      "GLUCOSE 2035\n",
      "SAT_O2 422\n",
      "BLOOD_PRES_SYS 750\n",
      "BLOOD_PRES_DIAS 750\n"
     ]
    }
   ],
   "source": [
    "for var in df:\n",
    "  if df[var].dtypes != object:\n",
    "    print(var, Counter(df[var])[0])"
   ]
  },
  {
   "cell_type": "markdown",
   "metadata": {},
   "source": [
    "### Relevant variables"
   ]
  },
  {
   "cell_type": "code",
   "execution_count": 259,
   "metadata": {},
   "outputs": [
    {
     "name": "stdout",
     "output_type": "stream",
     "text": [
      "ID\n",
      "1       NO\n",
      "2       NO\n",
      "3       NO\n",
      "4       NO\n",
      "5       NO\n",
      "        ..\n",
      "2050    NO\n",
      "2051    NO\n",
      "2052    NO\n",
      "2053    NO\n",
      "2054    NO\n",
      "Name: EXITUS, Length: 2054, dtype: object\n"
     ]
    }
   ],
   "source": [
    "# No values\n",
    "df.pop(\"GLUCOSE\")\n",
    "df.pop(\"DESTINATION\")\n",
    "\n",
    "# Values to predict\n",
    "days_hosp = df.pop(\"DAYS_HOSPITAL\")\n",
    "days_icu = df.pop(\"DAYS_ICU\")\n",
    "exitus_col = df.pop(\"EXITUS\")\n",
    "\n",
    "print(exitus_col)"
   ]
  },
  {
   "cell_type": "code",
   "execution_count": 260,
   "metadata": {},
   "outputs": [
    {
     "name": "stdout",
     "output_type": "stream",
     "text": [
      "AGE                 True\n",
      "SEX                 True\n",
      "TEMP               False\n",
      "HEART_RATE         False\n",
      "SAT_O2             False\n",
      "BLOOD_PRES_SYS     False\n",
      "BLOOD_PRES_DIAS    False\n",
      "dtype: bool\n"
     ]
    }
   ],
   "source": [
    "print(df.isnull().any())"
   ]
  },
  {
   "cell_type": "markdown",
   "metadata": {},
   "source": [
    "## Categorical Variables"
   ]
  },
  {
   "cell_type": "code",
   "execution_count": 261,
   "metadata": {},
   "outputs": [
    {
     "name": "stdout",
     "output_type": "stream",
     "text": [
      "['SEX']\n"
     ]
    }
   ],
   "source": [
    "# Mask for categorical variables\n",
    "cat_mask = df.dtypes==object\n",
    "\n",
    "cat_cols = df.columns[cat_mask].tolist()\n",
    "print(cat_cols)"
   ]
  },
  {
   "cell_type": "code",
   "execution_count": 262,
   "metadata": {},
   "outputs": [],
   "source": [
    "# Divide in categorical and numeric columns\n",
    "df_cat = df[cat_cols]\n",
    "df_num = df.drop(cat_cols, axis=1)"
   ]
  },
  {
   "cell_type": "code",
   "execution_count": 263,
   "metadata": {},
   "outputs": [],
   "source": [
    "def imput_categorical(cat_var, imputer):\n",
    "  return pd.DataFrame(\n",
    "    imputer.fit_transform(cat_var),\n",
    "    columns=cat_var.columns,\n",
    "    index=cat_var.index\n",
    "  )"
   ]
  },
  {
   "cell_type": "code",
   "execution_count": 264,
   "metadata": {},
   "outputs": [
    {
     "name": "stdout",
     "output_type": "stream",
     "text": [
      "         SEX\n",
      "ID          \n",
      "1     FEMALE\n",
      "2     FEMALE\n",
      "3       MALE\n",
      "4       MALE\n",
      "5       MALE\n",
      "...      ...\n",
      "2050  FEMALE\n",
      "2051  FEMALE\n",
      "2052  FEMALE\n",
      "2053    MALE\n",
      "2054    MALE\n",
      "\n",
      "[2054 rows x 1 columns]\n",
      "SEX    False\n",
      "dtype: bool\n",
      "     EXITUS\n",
      "ID         \n",
      "1        NO\n",
      "2        NO\n",
      "3        NO\n",
      "4        NO\n",
      "5        NO\n",
      "...     ...\n",
      "2050     NO\n",
      "2051     NO\n",
      "2052     NO\n",
      "2053     NO\n",
      "2054     NO\n",
      "\n",
      "[2054 rows x 1 columns]\n",
      "EXITUS    False\n",
      "dtype: bool\n"
     ]
    }
   ],
   "source": [
    "from sklearn.impute import SimpleImputer\n",
    "\n",
    "imp_cat = SimpleImputer(strategy='most_frequent')\n",
    "df_cat = imput_categorical(df_cat, imp_cat)\n",
    "df_exitus = imput_categorical(pd.DataFrame(exitus_col), imp_cat)\n",
    "\n",
    "print(df_cat)\n",
    "print(df_cat.isnull().any())\n",
    "\n",
    "print(df_exitus)\n",
    "print(df_exitus.isna().any())"
   ]
  },
  {
   "cell_type": "code",
   "execution_count": 265,
   "metadata": {},
   "outputs": [],
   "source": [
    "def categorical_to_onehot(cat_var, encoder):\n",
    "  return pd.DataFrame(\n",
    "    encoder.fit_transform(cat_var),\n",
    "    columns=encoder.get_feature_names_out(cat_var.columns.tolist()),\n",
    "    index=cat_var.index\n",
    "  )"
   ]
  },
  {
   "cell_type": "code",
   "execution_count": 266,
   "metadata": {},
   "outputs": [
    {
     "name": "stdout",
     "output_type": "stream",
     "text": [
      "      EXITUS_NO  EXITUS_YES\n",
      "ID                         \n",
      "1           1.0         0.0\n",
      "2           1.0         0.0\n",
      "3           1.0         0.0\n",
      "4           1.0         0.0\n",
      "5           1.0         0.0\n",
      "...         ...         ...\n",
      "2050        1.0         0.0\n",
      "2051        1.0         0.0\n",
      "2052        1.0         0.0\n",
      "2053        1.0         0.0\n",
      "2054        1.0         0.0\n",
      "\n",
      "[2054 rows x 2 columns]\n"
     ]
    }
   ],
   "source": [
    "from sklearn.preprocessing import OneHotEncoder\n",
    "\n",
    "ohe = OneHotEncoder(sparse=False)\n",
    "\n",
    "df_cat_one = categorical_to_onehot(df_cat, ohe)\n",
    "df_exitus_one = categorical_to_onehot(df_exitus, ohe)\n",
    "print(df_exitus_one)"
   ]
  },
  {
   "cell_type": "markdown",
   "metadata": {},
   "source": [
    "## Numerical Variables"
   ]
  },
  {
   "cell_type": "code",
   "execution_count": 267,
   "metadata": {},
   "outputs": [
    {
     "data": {
      "text/plain": [
       "AGE                 True\n",
       "TEMP               False\n",
       "HEART_RATE         False\n",
       "SAT_O2             False\n",
       "BLOOD_PRES_SYS     False\n",
       "BLOOD_PRES_DIAS    False\n",
       "dtype: bool"
      ]
     },
     "execution_count": 267,
     "metadata": {},
     "output_type": "execute_result"
    }
   ],
   "source": [
    "df_num.isna().any()"
   ]
  },
  {
   "cell_type": "code",
   "execution_count": 268,
   "metadata": {},
   "outputs": [
    {
     "data": {
      "text/plain": [
       "AGE                False\n",
       "TEMP               False\n",
       "HEART_RATE         False\n",
       "SAT_O2             False\n",
       "BLOOD_PRES_SYS     False\n",
       "BLOOD_PRES_DIAS    False\n",
       "dtype: bool"
      ]
     },
     "execution_count": 268,
     "metadata": {},
     "output_type": "execute_result"
    }
   ],
   "source": [
    "df_num['AGE'].fillna(0.0, inplace=True)\n",
    "df_num.isna().any()"
   ]
  },
  {
   "cell_type": "code",
   "execution_count": 269,
   "metadata": {},
   "outputs": [
    {
     "data": {
      "text/html": [
       "<div>\n",
       "<style scoped>\n",
       "    .dataframe tbody tr th:only-of-type {\n",
       "        vertical-align: middle;\n",
       "    }\n",
       "\n",
       "    .dataframe tbody tr th {\n",
       "        vertical-align: top;\n",
       "    }\n",
       "\n",
       "    .dataframe thead th {\n",
       "        text-align: right;\n",
       "    }\n",
       "</style>\n",
       "<table border=\"1\" class=\"dataframe\">\n",
       "  <thead>\n",
       "    <tr style=\"text-align: right;\">\n",
       "      <th></th>\n",
       "      <th>AGE</th>\n",
       "      <th>TEMP</th>\n",
       "      <th>HEART_RATE</th>\n",
       "      <th>SAT_O2</th>\n",
       "      <th>BLOOD_PRES_SYS</th>\n",
       "      <th>BLOOD_PRES_DIAS</th>\n",
       "    </tr>\n",
       "  </thead>\n",
       "  <tbody>\n",
       "    <tr>\n",
       "      <th>count</th>\n",
       "      <td>2054.000000</td>\n",
       "      <td>2054.000000</td>\n",
       "      <td>2054.000000</td>\n",
       "      <td>2054.000000</td>\n",
       "      <td>2054.000000</td>\n",
       "      <td>2054.000000</td>\n",
       "    </tr>\n",
       "    <tr>\n",
       "      <th>mean</th>\n",
       "      <td>70.718598</td>\n",
       "      <td>28.386319</td>\n",
       "      <td>70.787731</td>\n",
       "      <td>73.397760</td>\n",
       "      <td>83.571568</td>\n",
       "      <td>48.328140</td>\n",
       "    </tr>\n",
       "    <tr>\n",
       "      <th>std</th>\n",
       "      <td>20.674469</td>\n",
       "      <td>15.419158</td>\n",
       "      <td>41.802038</td>\n",
       "      <td>37.863716</td>\n",
       "      <td>67.450853</td>\n",
       "      <td>44.225438</td>\n",
       "    </tr>\n",
       "    <tr>\n",
       "      <th>min</th>\n",
       "      <td>0.000000</td>\n",
       "      <td>0.000000</td>\n",
       "      <td>0.000000</td>\n",
       "      <td>0.000000</td>\n",
       "      <td>0.000000</td>\n",
       "      <td>0.000000</td>\n",
       "    </tr>\n",
       "    <tr>\n",
       "      <th>25%</th>\n",
       "      <td>57.000000</td>\n",
       "      <td>35.400000</td>\n",
       "      <td>63.000000</td>\n",
       "      <td>81.000000</td>\n",
       "      <td>0.000000</td>\n",
       "      <td>0.000000</td>\n",
       "    </tr>\n",
       "    <tr>\n",
       "      <th>50%</th>\n",
       "      <td>68.000000</td>\n",
       "      <td>36.400000</td>\n",
       "      <td>84.000000</td>\n",
       "      <td>93.000000</td>\n",
       "      <td>115.000000</td>\n",
       "      <td>64.000000</td>\n",
       "    </tr>\n",
       "    <tr>\n",
       "      <th>75%</th>\n",
       "      <td>98.000000</td>\n",
       "      <td>36.900000</td>\n",
       "      <td>98.000000</td>\n",
       "      <td>96.000000</td>\n",
       "      <td>137.000000</td>\n",
       "      <td>79.000000</td>\n",
       "    </tr>\n",
       "    <tr>\n",
       "      <th>max</th>\n",
       "      <td>189.000000</td>\n",
       "      <td>40.100000</td>\n",
       "      <td>593.000000</td>\n",
       "      <td>99.000000</td>\n",
       "      <td>772.000000</td>\n",
       "      <td>845.000000</td>\n",
       "    </tr>\n",
       "  </tbody>\n",
       "</table>\n",
       "</div>"
      ],
      "text/plain": [
       "               AGE         TEMP   HEART_RATE       SAT_O2  BLOOD_PRES_SYS  \\\n",
       "count  2054.000000  2054.000000  2054.000000  2054.000000     2054.000000   \n",
       "mean     70.718598    28.386319    70.787731    73.397760       83.571568   \n",
       "std      20.674469    15.419158    41.802038    37.863716       67.450853   \n",
       "min       0.000000     0.000000     0.000000     0.000000        0.000000   \n",
       "25%      57.000000    35.400000    63.000000    81.000000        0.000000   \n",
       "50%      68.000000    36.400000    84.000000    93.000000      115.000000   \n",
       "75%      98.000000    36.900000    98.000000    96.000000      137.000000   \n",
       "max     189.000000    40.100000   593.000000    99.000000      772.000000   \n",
       "\n",
       "       BLOOD_PRES_DIAS  \n",
       "count      2054.000000  \n",
       "mean         48.328140  \n",
       "std          44.225438  \n",
       "min           0.000000  \n",
       "25%           0.000000  \n",
       "50%          64.000000  \n",
       "75%          79.000000  \n",
       "max         845.000000  "
      ]
     },
     "execution_count": 269,
     "metadata": {},
     "output_type": "execute_result"
    }
   ],
   "source": [
    "df_num.describe()"
   ]
  },
  {
   "cell_type": "code",
   "execution_count": 270,
   "metadata": {},
   "outputs": [],
   "source": [
    "metrics_limits = {\n",
    "  'HEART_RATE': (40, 200),\n",
    "  'SAT_O2': (40, 100),\n",
    "  'BLOOD_PRES_SYS': (10, 200),\n",
    "  'BLOOD_PRES_DIAS': (10, 130)\n",
    "}\n",
    "\n",
    "def not_within(col, min_val, max_val):\n",
    "  return (col < min_val) | (col > max_val)"
   ]
  },
  {
   "cell_type": "markdown",
   "metadata": {},
   "source": [
    "#### Remove outlier values"
   ]
  },
  {
   "cell_type": "code",
   "execution_count": 278,
   "metadata": {},
   "outputs": [
    {
     "data": {
      "text/html": [
       "<div>\n",
       "<style scoped>\n",
       "    .dataframe tbody tr th:only-of-type {\n",
       "        vertical-align: middle;\n",
       "    }\n",
       "\n",
       "    .dataframe tbody tr th {\n",
       "        vertical-align: top;\n",
       "    }\n",
       "\n",
       "    .dataframe thead th {\n",
       "        text-align: right;\n",
       "    }\n",
       "</style>\n",
       "<table border=\"1\" class=\"dataframe\">\n",
       "  <thead>\n",
       "    <tr style=\"text-align: right;\">\n",
       "      <th></th>\n",
       "      <th>AGE</th>\n",
       "      <th>TEMP</th>\n",
       "      <th>HEART_RATE</th>\n",
       "      <th>SAT_O2</th>\n",
       "      <th>BLOOD_PRES_SYS</th>\n",
       "      <th>BLOOD_PRES_DIAS</th>\n",
       "    </tr>\n",
       "  </thead>\n",
       "  <tbody>\n",
       "    <tr>\n",
       "      <th>count</th>\n",
       "      <td>2054.000000</td>\n",
       "      <td>2054.000000</td>\n",
       "      <td>2054.000000</td>\n",
       "      <td>2054.000000</td>\n",
       "      <td>2054.000000</td>\n",
       "      <td>2054.000000</td>\n",
       "    </tr>\n",
       "    <tr>\n",
       "      <th>mean</th>\n",
       "      <td>70.856585</td>\n",
       "      <td>36.739445</td>\n",
       "      <td>90.264339</td>\n",
       "      <td>92.427345</td>\n",
       "      <td>131.146585</td>\n",
       "      <td>75.023041</td>\n",
       "    </tr>\n",
       "    <tr>\n",
       "      <th>std</th>\n",
       "      <td>20.436992</td>\n",
       "      <td>0.721404</td>\n",
       "      <td>14.950901</td>\n",
       "      <td>6.054193</td>\n",
       "      <td>18.187327</td>\n",
       "      <td>10.385303</td>\n",
       "    </tr>\n",
       "    <tr>\n",
       "      <th>min</th>\n",
       "      <td>15.000000</td>\n",
       "      <td>33.200000</td>\n",
       "      <td>41.000000</td>\n",
       "      <td>40.000000</td>\n",
       "      <td>10.000000</td>\n",
       "      <td>11.000000</td>\n",
       "    </tr>\n",
       "    <tr>\n",
       "      <th>25%</th>\n",
       "      <td>57.000000</td>\n",
       "      <td>36.300000</td>\n",
       "      <td>82.000000</td>\n",
       "      <td>92.000000</td>\n",
       "      <td>125.000000</td>\n",
       "      <td>72.000000</td>\n",
       "    </tr>\n",
       "    <tr>\n",
       "      <th>50%</th>\n",
       "      <td>68.000000</td>\n",
       "      <td>36.739445</td>\n",
       "      <td>90.264339</td>\n",
       "      <td>93.000000</td>\n",
       "      <td>131.146585</td>\n",
       "      <td>75.023041</td>\n",
       "    </tr>\n",
       "    <tr>\n",
       "      <th>75%</th>\n",
       "      <td>98.000000</td>\n",
       "      <td>36.900000</td>\n",
       "      <td>98.000000</td>\n",
       "      <td>96.000000</td>\n",
       "      <td>137.000000</td>\n",
       "      <td>79.000000</td>\n",
       "    </tr>\n",
       "    <tr>\n",
       "      <th>max</th>\n",
       "      <td>189.000000</td>\n",
       "      <td>40.100000</td>\n",
       "      <td>190.000000</td>\n",
       "      <td>99.000000</td>\n",
       "      <td>200.000000</td>\n",
       "      <td>127.000000</td>\n",
       "    </tr>\n",
       "  </tbody>\n",
       "</table>\n",
       "</div>"
      ],
      "text/plain": [
       "               AGE         TEMP   HEART_RATE       SAT_O2  BLOOD_PRES_SYS  \\\n",
       "count  2054.000000  2054.000000  2054.000000  2054.000000     2054.000000   \n",
       "mean     70.856585    36.739445    90.264339    92.427345      131.146585   \n",
       "std      20.436992     0.721404    14.950901     6.054193       18.187327   \n",
       "min      15.000000    33.200000    41.000000    40.000000       10.000000   \n",
       "25%      57.000000    36.300000    82.000000    92.000000      125.000000   \n",
       "50%      68.000000    36.739445    90.264339    93.000000      131.146585   \n",
       "75%      98.000000    36.900000    98.000000    96.000000      137.000000   \n",
       "max     189.000000    40.100000   190.000000    99.000000      200.000000   \n",
       "\n",
       "       BLOOD_PRES_DIAS  \n",
       "count      2054.000000  \n",
       "mean         75.023041  \n",
       "std          10.385303  \n",
       "min          11.000000  \n",
       "25%          72.000000  \n",
       "50%          75.023041  \n",
       "75%          79.000000  \n",
       "max         127.000000  "
      ]
     },
     "execution_count": 278,
     "metadata": {},
     "output_type": "execute_result"
    }
   ],
   "source": [
    "for metric in metrics_limits:\n",
    "  min_value, max_value = metrics_limits[metric]\n",
    "  df_num.loc[not_within(df_num[metric], min_value, max_value), metric] = 0.0\n",
    "\n",
    "df_num.describe()"
   ]
  },
  {
   "cell_type": "code",
   "execution_count": 272,
   "metadata": {},
   "outputs": [
    {
     "name": "stdout",
     "output_type": "stream",
     "text": [
      "AGE                False\n",
      "TEMP               False\n",
      "HEART_RATE         False\n",
      "SAT_O2             False\n",
      "BLOOD_PRES_SYS     False\n",
      "BLOOD_PRES_DIAS    False\n",
      "dtype: bool\n",
      "             AGE       TEMP  HEART_RATE     SAT_O2  BLOOD_PRES_SYS  \\\n",
      "ID                                                                   \n",
      "1      15.000000  37.000000   90.264339  92.000000      131.146585   \n",
      "2      18.000000  37.300000  105.000000  97.000000      131.146585   \n",
      "3      21.000000  38.500000  112.000000  95.000000       85.000000   \n",
      "4      21.000000  39.200000  113.000000  97.000000      131.146585   \n",
      "5      22.000000  36.300000   80.000000  92.000000      111.000000   \n",
      "...          ...        ...         ...        ...             ...   \n",
      "2050  189.000000  36.739445   90.264339  92.427345      131.146585   \n",
      "2051   70.856585  36.500000   90.264339  92.427345      131.146585   \n",
      "2052   70.856585  36.800000  190.000000  98.000000      131.146585   \n",
      "2053   70.856585  36.739445  120.000000  93.000000      131.146585   \n",
      "2054   70.856585  36.800000   90.264339  92.427345      131.146585   \n",
      "\n",
      "      BLOOD_PRES_DIAS  \n",
      "ID                     \n",
      "1           75.023041  \n",
      "2           75.023041  \n",
      "3           47.000000  \n",
      "4           75.023041  \n",
      "5           70.000000  \n",
      "...               ...  \n",
      "2050        75.023041  \n",
      "2051        75.023041  \n",
      "2052        75.023041  \n",
      "2053        75.023041  \n",
      "2054        75.023041  \n",
      "\n",
      "[2054 rows x 6 columns]\n"
     ]
    }
   ],
   "source": [
    "imp_num = SimpleImputer(missing_values=0.0, strategy='mean')\n",
    "df_num = pd.DataFrame(\n",
    "  imp_num.fit_transform(df_num),\n",
    "  columns=df_num.columns,\n",
    "  index=df_num.index\n",
    ")\n",
    "print(df_num.isnull().any())\n",
    "print(df_num)"
   ]
  },
  {
   "cell_type": "markdown",
   "metadata": {},
   "source": [
    "## Merge all the processed variables"
   ]
  },
  {
   "cell_type": "code",
   "execution_count": 273,
   "metadata": {},
   "outputs": [
    {
     "name": "stdout",
     "output_type": "stream",
     "text": [
      "      SEX_FEMALE  SEX_MALE         AGE       TEMP  HEART_RATE     SAT_O2  \\\n",
      "ID                                                                         \n",
      "1            1.0       0.0   15.000000  37.000000   90.264339  92.000000   \n",
      "2            1.0       0.0   18.000000  37.300000  105.000000  97.000000   \n",
      "3            0.0       1.0   21.000000  38.500000  112.000000  95.000000   \n",
      "4            0.0       1.0   21.000000  39.200000  113.000000  97.000000   \n",
      "5            0.0       1.0   22.000000  36.300000   80.000000  92.000000   \n",
      "...          ...       ...         ...        ...         ...        ...   \n",
      "2050         1.0       0.0  189.000000  36.739445   90.264339  92.427345   \n",
      "2051         1.0       0.0   70.856585  36.500000   90.264339  92.427345   \n",
      "2052         1.0       0.0   70.856585  36.800000  190.000000  98.000000   \n",
      "2053         0.0       1.0   70.856585  36.739445  120.000000  93.000000   \n",
      "2054         0.0       1.0   70.856585  36.800000   90.264339  92.427345   \n",
      "\n",
      "      BLOOD_PRES_SYS  BLOOD_PRES_DIAS  \n",
      "ID                                     \n",
      "1         131.146585        75.023041  \n",
      "2         131.146585        75.023041  \n",
      "3          85.000000        47.000000  \n",
      "4         131.146585        75.023041  \n",
      "5         111.000000        70.000000  \n",
      "...              ...              ...  \n",
      "2050      131.146585        75.023041  \n",
      "2051      131.146585        75.023041  \n",
      "2052      131.146585        75.023041  \n",
      "2053      131.146585        75.023041  \n",
      "2054      131.146585        75.023041  \n",
      "\n",
      "[2054 rows x 8 columns]\n"
     ]
    }
   ],
   "source": [
    "df_processed = pd.merge(\n",
    "  left=df_cat_one,\n",
    "  right=df_num,\n",
    "  on='ID'\n",
    ")\n",
    "\n",
    "print(df_processed)"
   ]
  },
  {
   "cell_type": "code",
   "execution_count": 274,
   "metadata": {},
   "outputs": [
    {
     "data": {
      "text/html": [
       "<div>\n",
       "<style scoped>\n",
       "    .dataframe tbody tr th:only-of-type {\n",
       "        vertical-align: middle;\n",
       "    }\n",
       "\n",
       "    .dataframe tbody tr th {\n",
       "        vertical-align: top;\n",
       "    }\n",
       "\n",
       "    .dataframe thead th {\n",
       "        text-align: right;\n",
       "    }\n",
       "</style>\n",
       "<table border=\"1\" class=\"dataframe\">\n",
       "  <thead>\n",
       "    <tr style=\"text-align: right;\">\n",
       "      <th></th>\n",
       "      <th>SEX_FEMALE</th>\n",
       "      <th>SEX_MALE</th>\n",
       "      <th>AGE</th>\n",
       "      <th>TEMP</th>\n",
       "      <th>HEART_RATE</th>\n",
       "      <th>SAT_O2</th>\n",
       "      <th>BLOOD_PRES_SYS</th>\n",
       "      <th>BLOOD_PRES_DIAS</th>\n",
       "    </tr>\n",
       "  </thead>\n",
       "  <tbody>\n",
       "    <tr>\n",
       "      <th>count</th>\n",
       "      <td>2054.000000</td>\n",
       "      <td>2054.000000</td>\n",
       "      <td>2054.000000</td>\n",
       "      <td>2054.000000</td>\n",
       "      <td>2054.000000</td>\n",
       "      <td>2054.000000</td>\n",
       "      <td>2054.000000</td>\n",
       "      <td>2054.000000</td>\n",
       "    </tr>\n",
       "    <tr>\n",
       "      <th>mean</th>\n",
       "      <td>0.401655</td>\n",
       "      <td>0.598345</td>\n",
       "      <td>70.856585</td>\n",
       "      <td>36.739445</td>\n",
       "      <td>90.264339</td>\n",
       "      <td>92.427345</td>\n",
       "      <td>131.146585</td>\n",
       "      <td>75.023041</td>\n",
       "    </tr>\n",
       "    <tr>\n",
       "      <th>std</th>\n",
       "      <td>0.490352</td>\n",
       "      <td>0.490352</td>\n",
       "      <td>20.436992</td>\n",
       "      <td>0.721404</td>\n",
       "      <td>14.950901</td>\n",
       "      <td>6.054193</td>\n",
       "      <td>18.187327</td>\n",
       "      <td>10.385303</td>\n",
       "    </tr>\n",
       "    <tr>\n",
       "      <th>min</th>\n",
       "      <td>0.000000</td>\n",
       "      <td>0.000000</td>\n",
       "      <td>15.000000</td>\n",
       "      <td>33.200000</td>\n",
       "      <td>41.000000</td>\n",
       "      <td>40.000000</td>\n",
       "      <td>10.000000</td>\n",
       "      <td>11.000000</td>\n",
       "    </tr>\n",
       "    <tr>\n",
       "      <th>25%</th>\n",
       "      <td>0.000000</td>\n",
       "      <td>0.000000</td>\n",
       "      <td>57.000000</td>\n",
       "      <td>36.300000</td>\n",
       "      <td>82.000000</td>\n",
       "      <td>92.000000</td>\n",
       "      <td>125.000000</td>\n",
       "      <td>72.000000</td>\n",
       "    </tr>\n",
       "    <tr>\n",
       "      <th>50%</th>\n",
       "      <td>0.000000</td>\n",
       "      <td>1.000000</td>\n",
       "      <td>68.000000</td>\n",
       "      <td>36.739445</td>\n",
       "      <td>90.264339</td>\n",
       "      <td>93.000000</td>\n",
       "      <td>131.146585</td>\n",
       "      <td>75.023041</td>\n",
       "    </tr>\n",
       "    <tr>\n",
       "      <th>75%</th>\n",
       "      <td>1.000000</td>\n",
       "      <td>1.000000</td>\n",
       "      <td>98.000000</td>\n",
       "      <td>36.900000</td>\n",
       "      <td>98.000000</td>\n",
       "      <td>96.000000</td>\n",
       "      <td>137.000000</td>\n",
       "      <td>79.000000</td>\n",
       "    </tr>\n",
       "    <tr>\n",
       "      <th>max</th>\n",
       "      <td>1.000000</td>\n",
       "      <td>1.000000</td>\n",
       "      <td>189.000000</td>\n",
       "      <td>40.100000</td>\n",
       "      <td>190.000000</td>\n",
       "      <td>99.000000</td>\n",
       "      <td>200.000000</td>\n",
       "      <td>127.000000</td>\n",
       "    </tr>\n",
       "  </tbody>\n",
       "</table>\n",
       "</div>"
      ],
      "text/plain": [
       "        SEX_FEMALE     SEX_MALE          AGE         TEMP   HEART_RATE  \\\n",
       "count  2054.000000  2054.000000  2054.000000  2054.000000  2054.000000   \n",
       "mean      0.401655     0.598345    70.856585    36.739445    90.264339   \n",
       "std       0.490352     0.490352    20.436992     0.721404    14.950901   \n",
       "min       0.000000     0.000000    15.000000    33.200000    41.000000   \n",
       "25%       0.000000     0.000000    57.000000    36.300000    82.000000   \n",
       "50%       0.000000     1.000000    68.000000    36.739445    90.264339   \n",
       "75%       1.000000     1.000000    98.000000    36.900000    98.000000   \n",
       "max       1.000000     1.000000   189.000000    40.100000   190.000000   \n",
       "\n",
       "            SAT_O2  BLOOD_PRES_SYS  BLOOD_PRES_DIAS  \n",
       "count  2054.000000     2054.000000      2054.000000  \n",
       "mean     92.427345      131.146585        75.023041  \n",
       "std       6.054193       18.187327        10.385303  \n",
       "min      40.000000       10.000000        11.000000  \n",
       "25%      92.000000      125.000000        72.000000  \n",
       "50%      93.000000      131.146585        75.023041  \n",
       "75%      96.000000      137.000000        79.000000  \n",
       "max      99.000000      200.000000       127.000000  "
      ]
     },
     "execution_count": 274,
     "metadata": {},
     "output_type": "execute_result"
    }
   ],
   "source": [
    "df_processed.describe()"
   ]
  },
  {
   "cell_type": "markdown",
   "metadata": {},
   "source": [
    "## Feature Selection"
   ]
  },
  {
   "cell_type": "code",
   "execution_count": 275,
   "metadata": {},
   "outputs": [
    {
     "name": "stdout",
     "output_type": "stream",
     "text": [
      "      SEX_FEMALE         AGE     SAT_O2  BLOOD_PRES_SYS  BLOOD_PRES_DIAS\n",
      "ID                                                                      \n",
      "1            1.0   15.000000  92.000000      131.146585        75.023041\n",
      "2            1.0   18.000000  97.000000      131.146585        75.023041\n",
      "3            0.0   21.000000  95.000000       85.000000        47.000000\n",
      "4            0.0   21.000000  97.000000      131.146585        75.023041\n",
      "5            0.0   22.000000  92.000000      111.000000        70.000000\n",
      "...          ...         ...        ...             ...              ...\n",
      "2050         1.0  189.000000  92.427345      131.146585        75.023041\n",
      "2051         1.0   70.856585  92.427345      131.146585        75.023041\n",
      "2052         1.0   70.856585  98.000000      131.146585        75.023041\n",
      "2053         0.0   70.856585  93.000000      131.146585        75.023041\n",
      "2054         0.0   70.856585  92.427345      131.146585        75.023041\n",
      "\n",
      "[2054 rows x 5 columns]\n"
     ]
    }
   ],
   "source": [
    "from sklearn.feature_selection import SelectKBest, chi2\n",
    "\n",
    "fs_k_best_chi2 = SelectKBest(chi2, k=5)\n",
    "fs_k_best_chi2.fit(df_processed, df_exitus_one)\n",
    "col_filter = fs_k_best_chi2.get_support()\n",
    "df_k_best_chi2 = df_processed.iloc[:, col_filter]\n",
    "\n",
    "print(df_k_best_chi2)"
   ]
  },
  {
   "cell_type": "code",
   "execution_count": 276,
   "metadata": {},
   "outputs": [
    {
     "name": "stdout",
     "output_type": "stream",
     "text": [
      "             AGE     SAT_O2  BLOOD_PRES_SYS\n",
      "ID                                         \n",
      "1      15.000000  92.000000      131.146585\n",
      "2      18.000000  97.000000      131.146585\n",
      "3      21.000000  95.000000       85.000000\n",
      "4      21.000000  97.000000      131.146585\n",
      "5      22.000000  92.000000      111.000000\n",
      "...          ...        ...             ...\n",
      "2050  189.000000  92.427345      131.146585\n",
      "2051   70.856585  92.427345      131.146585\n",
      "2052   70.856585  98.000000      131.146585\n",
      "2053   70.856585  93.000000      131.146585\n",
      "2054   70.856585  92.427345      131.146585\n",
      "\n",
      "[2054 rows x 3 columns]\n"
     ]
    }
   ],
   "source": [
    "from sklearn.feature_selection import SelectPercentile, mutual_info_classif\n",
    "\n",
    "fs_perc_mi = SelectPercentile(mutual_info_classif, percentile=40)\n",
    "fs_perc_mi.fit(df_processed, df_exitus['EXITUS'])\n",
    "col_filter = fs_perc_mi.get_support()\n",
    "df_perc_mi = df_processed.iloc[:, col_filter]\n",
    "\n",
    "print(df_perc_mi)"
   ]
  },
  {
   "cell_type": "markdown",
   "metadata": {},
   "source": [
    "### Feature Scaling"
   ]
  },
  {
   "cell_type": "code",
   "execution_count": 277,
   "metadata": {},
   "outputs": [
    {
     "name": "stdout",
     "output_type": "stream",
     "text": [
      "(2054, 8)\n",
      "[[1.         0.         0.         ... 0.88135593 0.6376136  0.55192277]\n",
      " [1.         0.         0.01724138 ... 0.96610169 0.6376136  0.55192277]\n",
      " [0.         1.         0.03448276 ... 0.93220339 0.39473684 0.31034483]\n",
      " ...\n",
      " [1.         0.         0.32101486 ... 0.98305085 0.6376136  0.55192277]\n",
      " [0.         1.         0.32101486 ... 0.89830508 0.6376136  0.55192277]\n",
      " [0.         1.         0.32101486 ... 0.88859907 0.6376136  0.55192277]]\n"
     ]
    }
   ],
   "source": [
    "from sklearn.preprocessing import MinMaxScaler\n",
    "\n",
    "mms = MinMaxScaler()\n",
    "# df_num_mms = mms.fit_transform(df_k_best_chi2)\n",
    "df_num_mms = mms.fit_transform(df_processed)\n",
    "print(df_num_mms.shape)\n",
    "print(df_num_mms)"
   ]
  },
  {
   "cell_type": "markdown",
   "metadata": {},
   "source": [
    "## DATA EXPLORATION"
   ]
  }
 ],
 "metadata": {
  "interpreter": {
   "hash": "f9f85f796d01129d0dd105a088854619f454435301f6ffec2fea96ecbd9be4ac"
  },
  "kernelspec": {
   "display_name": "Python 3.9.5 64-bit",
   "language": "python",
   "name": "python3"
  },
  "language_info": {
   "codemirror_mode": {
    "name": "ipython",
    "version": 3
   },
   "file_extension": ".py",
   "mimetype": "text/x-python",
   "name": "python",
   "nbconvert_exporter": "python",
   "pygments_lexer": "ipython3",
   "version": "3.9.9"
  },
  "orig_nbformat": 4
 },
 "nbformat": 4,
 "nbformat_minor": 2
}
