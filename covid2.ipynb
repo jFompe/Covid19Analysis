{
 "cells": [
  {
   "cell_type": "markdown",
   "metadata": {},
   "source": [
    "# COVID-19 ANALYSIS"
   ]
  },
  {
   "cell_type": "code",
   "execution_count": 1,
   "metadata": {},
   "outputs": [
    {
     "data": {
      "text/html": [
       "<div>\n",
       "<style scoped>\n",
       "    .dataframe tbody tr th:only-of-type {\n",
       "        vertical-align: middle;\n",
       "    }\n",
       "\n",
       "    .dataframe tbody tr th {\n",
       "        vertical-align: top;\n",
       "    }\n",
       "\n",
       "    .dataframe thead th {\n",
       "        text-align: right;\n",
       "    }\n",
       "</style>\n",
       "<table border=\"1\" class=\"dataframe\">\n",
       "  <thead>\n",
       "    <tr style=\"text-align: right;\">\n",
       "      <th></th>\n",
       "      <th>AGE</th>\n",
       "      <th>DAYS_HOSPITAL</th>\n",
       "      <th>DAYS_ICU</th>\n",
       "      <th>TEMP</th>\n",
       "      <th>HEART_RATE</th>\n",
       "      <th>GLUCOSE</th>\n",
       "      <th>SAT_O2</th>\n",
       "      <th>BLOOD_PRES_SYS</th>\n",
       "      <th>BLOOD_PRES_DIAS</th>\n",
       "    </tr>\n",
       "  </thead>\n",
       "  <tbody>\n",
       "    <tr>\n",
       "      <th>count</th>\n",
       "      <td>2050.000000</td>\n",
       "      <td>2054.000000</td>\n",
       "      <td>2054.000000</td>\n",
       "      <td>2054.000000</td>\n",
       "      <td>2054.000000</td>\n",
       "      <td>2054.000000</td>\n",
       "      <td>2054.000000</td>\n",
       "      <td>2054.000000</td>\n",
       "      <td>2054.000000</td>\n",
       "    </tr>\n",
       "    <tr>\n",
       "      <th>mean</th>\n",
       "      <td>70.856585</td>\n",
       "      <td>8.118793</td>\n",
       "      <td>0.355404</td>\n",
       "      <td>28.386319</td>\n",
       "      <td>70.787731</td>\n",
       "      <td>1.776047</td>\n",
       "      <td>73.397760</td>\n",
       "      <td>83.571568</td>\n",
       "      <td>48.328140</td>\n",
       "    </tr>\n",
       "    <tr>\n",
       "      <th>std</th>\n",
       "      <td>20.456931</td>\n",
       "      <td>6.177872</td>\n",
       "      <td>2.173721</td>\n",
       "      <td>15.419158</td>\n",
       "      <td>41.802038</td>\n",
       "      <td>20.434622</td>\n",
       "      <td>37.863716</td>\n",
       "      <td>67.450853</td>\n",
       "      <td>44.225438</td>\n",
       "    </tr>\n",
       "    <tr>\n",
       "      <th>min</th>\n",
       "      <td>15.000000</td>\n",
       "      <td>0.000000</td>\n",
       "      <td>0.000000</td>\n",
       "      <td>0.000000</td>\n",
       "      <td>0.000000</td>\n",
       "      <td>0.000000</td>\n",
       "      <td>0.000000</td>\n",
       "      <td>0.000000</td>\n",
       "      <td>0.000000</td>\n",
       "    </tr>\n",
       "    <tr>\n",
       "      <th>25%</th>\n",
       "      <td>57.000000</td>\n",
       "      <td>4.000000</td>\n",
       "      <td>0.000000</td>\n",
       "      <td>35.400000</td>\n",
       "      <td>63.000000</td>\n",
       "      <td>0.000000</td>\n",
       "      <td>81.000000</td>\n",
       "      <td>0.000000</td>\n",
       "      <td>0.000000</td>\n",
       "    </tr>\n",
       "    <tr>\n",
       "      <th>50%</th>\n",
       "      <td>68.000000</td>\n",
       "      <td>7.000000</td>\n",
       "      <td>0.000000</td>\n",
       "      <td>36.400000</td>\n",
       "      <td>84.000000</td>\n",
       "      <td>0.000000</td>\n",
       "      <td>93.000000</td>\n",
       "      <td>115.000000</td>\n",
       "      <td>64.000000</td>\n",
       "    </tr>\n",
       "    <tr>\n",
       "      <th>75%</th>\n",
       "      <td>98.000000</td>\n",
       "      <td>10.000000</td>\n",
       "      <td>0.000000</td>\n",
       "      <td>36.900000</td>\n",
       "      <td>98.000000</td>\n",
       "      <td>0.000000</td>\n",
       "      <td>96.000000</td>\n",
       "      <td>137.000000</td>\n",
       "      <td>79.000000</td>\n",
       "    </tr>\n",
       "    <tr>\n",
       "      <th>max</th>\n",
       "      <td>189.000000</td>\n",
       "      <td>98.000000</td>\n",
       "      <td>36.000000</td>\n",
       "      <td>40.100000</td>\n",
       "      <td>593.000000</td>\n",
       "      <td>448.000000</td>\n",
       "      <td>99.000000</td>\n",
       "      <td>772.000000</td>\n",
       "      <td>845.000000</td>\n",
       "    </tr>\n",
       "  </tbody>\n",
       "</table>\n",
       "</div>"
      ],
      "text/plain": [
       "               AGE  DAYS_HOSPITAL     DAYS_ICU         TEMP   HEART_RATE  \\\n",
       "count  2050.000000    2054.000000  2054.000000  2054.000000  2054.000000   \n",
       "mean     70.856585       8.118793     0.355404    28.386319    70.787731   \n",
       "std      20.456931       6.177872     2.173721    15.419158    41.802038   \n",
       "min      15.000000       0.000000     0.000000     0.000000     0.000000   \n",
       "25%      57.000000       4.000000     0.000000    35.400000    63.000000   \n",
       "50%      68.000000       7.000000     0.000000    36.400000    84.000000   \n",
       "75%      98.000000      10.000000     0.000000    36.900000    98.000000   \n",
       "max     189.000000      98.000000    36.000000    40.100000   593.000000   \n",
       "\n",
       "           GLUCOSE       SAT_O2  BLOOD_PRES_SYS  BLOOD_PRES_DIAS  \n",
       "count  2054.000000  2054.000000     2054.000000      2054.000000  \n",
       "mean      1.776047    73.397760       83.571568        48.328140  \n",
       "std      20.434622    37.863716       67.450853        44.225438  \n",
       "min       0.000000     0.000000        0.000000         0.000000  \n",
       "25%       0.000000    81.000000        0.000000         0.000000  \n",
       "50%       0.000000    93.000000      115.000000        64.000000  \n",
       "75%       0.000000    96.000000      137.000000        79.000000  \n",
       "max     448.000000    99.000000      772.000000       845.000000  "
      ]
     },
     "execution_count": 1,
     "metadata": {},
     "output_type": "execute_result"
    }
   ],
   "source": [
    "import pandas as pd\n",
    "from utils import *\n",
    "df = pd.read_csv(\"COVID19_data.csv\", index_col=\"ID\")\n",
    "df.describe()"
   ]
  },
  {
   "cell_type": "code",
   "execution_count": 110,
   "metadata": {},
   "outputs": [
    {
     "name": "stdout",
     "output_type": "stream",
     "text": [
      "AGE                 True\n",
      "SEX                 True\n",
      "DAYS_HOSPITAL      False\n",
      "DAYS_ICU           False\n",
      "EXITUS              True\n",
      "DESTINATION         True\n",
      "TEMP               False\n",
      "HEART_RATE         False\n",
      "GLUCOSE            False\n",
      "SAT_O2             False\n",
      "BLOOD_PRES_SYS     False\n",
      "BLOOD_PRES_DIAS    False\n",
      "dtype: bool\n"
     ]
    }
   ],
   "source": [
    "print(df.isna().any())"
   ]
  },
  {
   "cell_type": "code",
   "execution_count": 49,
   "metadata": {},
   "outputs": [
    {
     "name": "stdout",
     "output_type": "stream",
     "text": [
      "['SEX', 'EXITUS', 'DESTINATION']\n",
      "['AGE', 'DAYS_HOSPITAL', 'DAYS_ICU', 'TEMP', 'HEART_RATE', 'GLUCOSE', 'SAT_O2', 'BLOOD_PRES_SYS', 'BLOOD_PRES_DIAS']\n"
     ]
    }
   ],
   "source": [
    "CAT_VARS = get_categorical_variables(df)\n",
    "NUM_VARS = get_numerical_variables(df)\n",
    "print(CAT_VARS)\n",
    "print(NUM_VARS)"
   ]
  },
  {
   "cell_type": "markdown",
   "metadata": {},
   "source": [
    "### Missing values in categorical variables"
   ]
  },
  {
   "cell_type": "code",
   "execution_count": 50,
   "metadata": {},
   "outputs": [
    {
     "name": "stdout",
     "output_type": "stream",
     "text": [
      "SEX Counter({'MALE': 1227, 'FEMALE': 825, nan: 2})\n",
      "EXITUS Counter({'NO': 1684, 'YES': 329, nan: 41})\n",
      "DESTINATION Counter({nan: 1383, 'ADMISSION': 671})\n"
     ]
    }
   ],
   "source": [
    "from collections import Counter\n",
    "\n",
    "for var in CAT_VARS:\n",
    "  print(var, Counter(df[var]))"
   ]
  },
  {
   "cell_type": "markdown",
   "metadata": {},
   "source": [
    "### Zero values in numerical variables"
   ]
  },
  {
   "cell_type": "code",
   "execution_count": 51,
   "metadata": {},
   "outputs": [
    {
     "name": "stdout",
     "output_type": "stream",
     "text": [
      "AGE 0\n",
      "DAYS_HOSPITAL 21\n",
      "DAYS_ICU 1947\n",
      "TEMP 467\n",
      "HEART_RATE 448\n",
      "GLUCOSE 2035\n",
      "SAT_O2 422\n",
      "BLOOD_PRES_SYS 750\n",
      "BLOOD_PRES_DIAS 750\n"
     ]
    }
   ],
   "source": [
    "for var in NUM_VARS:\n",
    "  print(var, Counter(df[var])[0])"
   ]
  },
  {
   "cell_type": "markdown",
   "metadata": {},
   "source": [
    "### Relevant variables"
   ]
  },
  {
   "cell_type": "code",
   "execution_count": 52,
   "metadata": {},
   "outputs": [
    {
     "name": "stdout",
     "output_type": "stream",
     "text": [
      "ID\n",
      "1       NO\n",
      "2       NO\n",
      "3       NO\n",
      "4       NO\n",
      "5       NO\n",
      "        ..\n",
      "2050    NO\n",
      "2051    NO\n",
      "2052    NO\n",
      "2053    NO\n",
      "2054    NO\n",
      "Name: EXITUS, Length: 2054, dtype: object\n"
     ]
    }
   ],
   "source": [
    "# No values\n",
    "df.pop(\"GLUCOSE\")\n",
    "df.pop(\"DESTINATION\")\n",
    "\n",
    "# Values to predict\n",
    "days_hosp = df.pop(\"DAYS_HOSPITAL\")\n",
    "days_icu = df.pop(\"DAYS_ICU\")\n",
    "exitus_col = df.pop(\"EXITUS\")\n",
    "\n",
    "print(exitus_col)"
   ]
  },
  {
   "cell_type": "code",
   "execution_count": 53,
   "metadata": {},
   "outputs": [
    {
     "name": "stdout",
     "output_type": "stream",
     "text": [
      "AGE                 True\n",
      "SEX                 True\n",
      "TEMP               False\n",
      "HEART_RATE         False\n",
      "SAT_O2             False\n",
      "BLOOD_PRES_SYS     False\n",
      "BLOOD_PRES_DIAS    False\n",
      "dtype: bool\n"
     ]
    }
   ],
   "source": [
    "print(df.isnull().any())"
   ]
  },
  {
   "cell_type": "markdown",
   "metadata": {},
   "source": [
    "## Categorical Variables"
   ]
  },
  {
   "cell_type": "code",
   "execution_count": 54,
   "metadata": {},
   "outputs": [
    {
     "name": "stdout",
     "output_type": "stream",
     "text": [
      "['SEX']\n"
     ]
    }
   ],
   "source": [
    "cat_cols = get_categorical_variables(df)\n",
    "print(cat_cols)"
   ]
  },
  {
   "cell_type": "code",
   "execution_count": 55,
   "metadata": {},
   "outputs": [],
   "source": [
    "# Divide in categorical and numeric columns\n",
    "df_cat = df[cat_cols]\n",
    "df_num = df.drop(cat_cols, axis=1)"
   ]
  },
  {
   "cell_type": "code",
   "execution_count": 56,
   "metadata": {},
   "outputs": [],
   "source": [
    "def imput_categorical(cat_var, imputer):\n",
    "  return pd.DataFrame(\n",
    "    imputer.fit_transform(cat_var),\n",
    "    columns=cat_var.columns,\n",
    "    index=cat_var.index\n",
    "  )"
   ]
  },
  {
   "cell_type": "code",
   "execution_count": 57,
   "metadata": {},
   "outputs": [
    {
     "name": "stdout",
     "output_type": "stream",
     "text": [
      "         SEX\n",
      "ID          \n",
      "1     FEMALE\n",
      "2     FEMALE\n",
      "3       MALE\n",
      "4       MALE\n",
      "5       MALE\n",
      "...      ...\n",
      "2050  FEMALE\n",
      "2051  FEMALE\n",
      "2052  FEMALE\n",
      "2053    MALE\n",
      "2054    MALE\n",
      "\n",
      "[2054 rows x 1 columns]\n",
      "SEX    False\n",
      "dtype: bool\n",
      "     EXITUS\n",
      "ID         \n",
      "1        NO\n",
      "2        NO\n",
      "3        NO\n",
      "4        NO\n",
      "5        NO\n",
      "...     ...\n",
      "2050     NO\n",
      "2051     NO\n",
      "2052     NO\n",
      "2053     NO\n",
      "2054     NO\n",
      "\n",
      "[2054 rows x 1 columns]\n",
      "EXITUS    False\n",
      "dtype: bool\n"
     ]
    }
   ],
   "source": [
    "from sklearn.impute import SimpleImputer\n",
    "\n",
    "imp_cat = SimpleImputer(strategy='most_frequent')\n",
    "df_cat = imput_categorical(df_cat, imp_cat)\n",
    "df_exitus = imput_categorical(pd.DataFrame(exitus_col), imp_cat)\n",
    "\n",
    "print(df_cat)\n",
    "print(df_cat.isnull().any())\n",
    "\n",
    "print(df_exitus)\n",
    "print(df_exitus.isna().any())"
   ]
  },
  {
   "cell_type": "code",
   "execution_count": 94,
   "metadata": {},
   "outputs": [],
   "source": [
    "def categorical_to_numeric(cat_var, encoder):\n",
    "  return pd.DataFrame(\n",
    "    encoder.fit_transform(cat_var),\n",
    "    columns=cat_var.columns,\n",
    "    index=cat_var.index\n",
    "  )"
   ]
  },
  {
   "cell_type": "code",
   "execution_count": 99,
   "metadata": {},
   "outputs": [
    {
     "name": "stdout",
     "output_type": "stream",
     "text": [
      "      EXITUS\n",
      "ID          \n",
      "1          0\n",
      "2          0\n",
      "3          0\n",
      "4          0\n",
      "5          0\n",
      "...      ...\n",
      "2050       0\n",
      "2051       0\n",
      "2052       0\n",
      "2053       0\n",
      "2054       0\n",
      "\n",
      "[2054 rows x 1 columns]\n"
     ]
    },
    {
     "name": "stderr",
     "output_type": "stream",
     "text": [
      "/home/fompe/miniconda3/envs/env_PY/lib/python3.9/site-packages/sklearn/preprocessing/_label.py:115: DataConversionWarning: A column-vector y was passed when a 1d array was expected. Please change the shape of y to (n_samples, ), for example using ravel().\n",
      "  y = column_or_1d(y, warn=True)\n"
     ]
    }
   ],
   "source": [
    "from sklearn.preprocessing import LabelEncoder\n",
    "\n",
    "le = LabelEncoder()\n",
    "\n",
    "df_cat = categorical_to_numeric(df_cat, le)\n",
    "df_exitus = categorical_to_numeric(df_exitus, le)\n",
    "print(df_exitus)"
   ]
  },
  {
   "cell_type": "markdown",
   "metadata": {},
   "source": [
    "## Numerical Variables"
   ]
  },
  {
   "cell_type": "code",
   "execution_count": 60,
   "metadata": {},
   "outputs": [
    {
     "data": {
      "text/plain": [
       "AGE                 True\n",
       "TEMP               False\n",
       "HEART_RATE         False\n",
       "SAT_O2             False\n",
       "BLOOD_PRES_SYS     False\n",
       "BLOOD_PRES_DIAS    False\n",
       "dtype: bool"
      ]
     },
     "execution_count": 60,
     "metadata": {},
     "output_type": "execute_result"
    }
   ],
   "source": [
    "df_num.isna().any()"
   ]
  },
  {
   "cell_type": "code",
   "execution_count": 61,
   "metadata": {},
   "outputs": [
    {
     "data": {
      "text/plain": [
       "AGE                False\n",
       "TEMP               False\n",
       "HEART_RATE         False\n",
       "SAT_O2             False\n",
       "BLOOD_PRES_SYS     False\n",
       "BLOOD_PRES_DIAS    False\n",
       "dtype: bool"
      ]
     },
     "execution_count": 61,
     "metadata": {},
     "output_type": "execute_result"
    }
   ],
   "source": [
    "df_num['AGE'].fillna(0.0, inplace=True)\n",
    "df_num.isna().any()"
   ]
  },
  {
   "cell_type": "code",
   "execution_count": 62,
   "metadata": {},
   "outputs": [
    {
     "data": {
      "text/html": [
       "<div>\n",
       "<style scoped>\n",
       "    .dataframe tbody tr th:only-of-type {\n",
       "        vertical-align: middle;\n",
       "    }\n",
       "\n",
       "    .dataframe tbody tr th {\n",
       "        vertical-align: top;\n",
       "    }\n",
       "\n",
       "    .dataframe thead th {\n",
       "        text-align: right;\n",
       "    }\n",
       "</style>\n",
       "<table border=\"1\" class=\"dataframe\">\n",
       "  <thead>\n",
       "    <tr style=\"text-align: right;\">\n",
       "      <th></th>\n",
       "      <th>AGE</th>\n",
       "      <th>TEMP</th>\n",
       "      <th>HEART_RATE</th>\n",
       "      <th>SAT_O2</th>\n",
       "      <th>BLOOD_PRES_SYS</th>\n",
       "      <th>BLOOD_PRES_DIAS</th>\n",
       "    </tr>\n",
       "  </thead>\n",
       "  <tbody>\n",
       "    <tr>\n",
       "      <th>count</th>\n",
       "      <td>2054.000000</td>\n",
       "      <td>2054.000000</td>\n",
       "      <td>2054.000000</td>\n",
       "      <td>2054.000000</td>\n",
       "      <td>2054.000000</td>\n",
       "      <td>2054.000000</td>\n",
       "    </tr>\n",
       "    <tr>\n",
       "      <th>mean</th>\n",
       "      <td>70.718598</td>\n",
       "      <td>28.386319</td>\n",
       "      <td>70.787731</td>\n",
       "      <td>73.397760</td>\n",
       "      <td>83.571568</td>\n",
       "      <td>48.328140</td>\n",
       "    </tr>\n",
       "    <tr>\n",
       "      <th>std</th>\n",
       "      <td>20.674469</td>\n",
       "      <td>15.419158</td>\n",
       "      <td>41.802038</td>\n",
       "      <td>37.863716</td>\n",
       "      <td>67.450853</td>\n",
       "      <td>44.225438</td>\n",
       "    </tr>\n",
       "    <tr>\n",
       "      <th>min</th>\n",
       "      <td>0.000000</td>\n",
       "      <td>0.000000</td>\n",
       "      <td>0.000000</td>\n",
       "      <td>0.000000</td>\n",
       "      <td>0.000000</td>\n",
       "      <td>0.000000</td>\n",
       "    </tr>\n",
       "    <tr>\n",
       "      <th>25%</th>\n",
       "      <td>57.000000</td>\n",
       "      <td>35.400000</td>\n",
       "      <td>63.000000</td>\n",
       "      <td>81.000000</td>\n",
       "      <td>0.000000</td>\n",
       "      <td>0.000000</td>\n",
       "    </tr>\n",
       "    <tr>\n",
       "      <th>50%</th>\n",
       "      <td>68.000000</td>\n",
       "      <td>36.400000</td>\n",
       "      <td>84.000000</td>\n",
       "      <td>93.000000</td>\n",
       "      <td>115.000000</td>\n",
       "      <td>64.000000</td>\n",
       "    </tr>\n",
       "    <tr>\n",
       "      <th>75%</th>\n",
       "      <td>98.000000</td>\n",
       "      <td>36.900000</td>\n",
       "      <td>98.000000</td>\n",
       "      <td>96.000000</td>\n",
       "      <td>137.000000</td>\n",
       "      <td>79.000000</td>\n",
       "    </tr>\n",
       "    <tr>\n",
       "      <th>max</th>\n",
       "      <td>189.000000</td>\n",
       "      <td>40.100000</td>\n",
       "      <td>593.000000</td>\n",
       "      <td>99.000000</td>\n",
       "      <td>772.000000</td>\n",
       "      <td>845.000000</td>\n",
       "    </tr>\n",
       "  </tbody>\n",
       "</table>\n",
       "</div>"
      ],
      "text/plain": [
       "               AGE         TEMP   HEART_RATE       SAT_O2  BLOOD_PRES_SYS  \\\n",
       "count  2054.000000  2054.000000  2054.000000  2054.000000     2054.000000   \n",
       "mean     70.718598    28.386319    70.787731    73.397760       83.571568   \n",
       "std      20.674469    15.419158    41.802038    37.863716       67.450853   \n",
       "min       0.000000     0.000000     0.000000     0.000000        0.000000   \n",
       "25%      57.000000    35.400000    63.000000    81.000000        0.000000   \n",
       "50%      68.000000    36.400000    84.000000    93.000000      115.000000   \n",
       "75%      98.000000    36.900000    98.000000    96.000000      137.000000   \n",
       "max     189.000000    40.100000   593.000000    99.000000      772.000000   \n",
       "\n",
       "       BLOOD_PRES_DIAS  \n",
       "count      2054.000000  \n",
       "mean         48.328140  \n",
       "std          44.225438  \n",
       "min           0.000000  \n",
       "25%           0.000000  \n",
       "50%          64.000000  \n",
       "75%          79.000000  \n",
       "max         845.000000  "
      ]
     },
     "execution_count": 62,
     "metadata": {},
     "output_type": "execute_result"
    }
   ],
   "source": [
    "df_num.describe()"
   ]
  },
  {
   "cell_type": "code",
   "execution_count": 63,
   "metadata": {},
   "outputs": [],
   "source": [
    "metrics_limits = {\n",
    "  'TEMP': (33,42),\n",
    "  'AGE': (1,120),\n",
    "  'HEART_RATE': (40, 200),\n",
    "  'SAT_O2': (40, 100),\n",
    "  'BLOOD_PRES_SYS': (10, 200),\n",
    "  'BLOOD_PRES_DIAS': (10, 130)\n",
    "}"
   ]
  },
  {
   "cell_type": "markdown",
   "metadata": {},
   "source": [
    "#### Remove outlier values"
   ]
  },
  {
   "cell_type": "code",
   "execution_count": 65,
   "metadata": {},
   "outputs": [
    {
     "name": "stdout",
     "output_type": "stream",
     "text": [
      "4\n",
      "AGE 1\n",
      "448\n",
      "HEART_RATE 2\n",
      "422\n",
      "SAT_O2 1\n",
      "750\n",
      "BLOOD_PRES_SYS 1\n",
      "750\n",
      "BLOOD_PRES_DIAS 2\n"
     ]
    },
    {
     "data": {
      "text/html": [
       "<div>\n",
       "<style scoped>\n",
       "    .dataframe tbody tr th:only-of-type {\n",
       "        vertical-align: middle;\n",
       "    }\n",
       "\n",
       "    .dataframe tbody tr th {\n",
       "        vertical-align: top;\n",
       "    }\n",
       "\n",
       "    .dataframe thead th {\n",
       "        text-align: right;\n",
       "    }\n",
       "</style>\n",
       "<table border=\"1\" class=\"dataframe\">\n",
       "  <thead>\n",
       "    <tr style=\"text-align: right;\">\n",
       "      <th></th>\n",
       "      <th>AGE</th>\n",
       "      <th>TEMP</th>\n",
       "      <th>HEART_RATE</th>\n",
       "      <th>SAT_O2</th>\n",
       "      <th>BLOOD_PRES_SYS</th>\n",
       "      <th>BLOOD_PRES_DIAS</th>\n",
       "    </tr>\n",
       "  </thead>\n",
       "  <tbody>\n",
       "    <tr>\n",
       "      <th>count</th>\n",
       "      <td>2054.000000</td>\n",
       "      <td>2054.000000</td>\n",
       "      <td>2054.000000</td>\n",
       "      <td>2054.000000</td>\n",
       "      <td>2054.000000</td>\n",
       "      <td>2054.000000</td>\n",
       "    </tr>\n",
       "    <tr>\n",
       "      <th>mean</th>\n",
       "      <td>70.626582</td>\n",
       "      <td>28.386319</td>\n",
       "      <td>70.488802</td>\n",
       "      <td>73.392892</td>\n",
       "      <td>83.195716</td>\n",
       "      <td>47.555988</td>\n",
       "    </tr>\n",
       "    <tr>\n",
       "      <th>std</th>\n",
       "      <td>20.568096</td>\n",
       "      <td>15.419158</td>\n",
       "      <td>40.226388</td>\n",
       "      <td>37.872514</td>\n",
       "      <td>65.742139</td>\n",
       "      <td>37.612679</td>\n",
       "    </tr>\n",
       "    <tr>\n",
       "      <th>min</th>\n",
       "      <td>0.000000</td>\n",
       "      <td>0.000000</td>\n",
       "      <td>0.000000</td>\n",
       "      <td>0.000000</td>\n",
       "      <td>0.000000</td>\n",
       "      <td>0.000000</td>\n",
       "    </tr>\n",
       "    <tr>\n",
       "      <th>25%</th>\n",
       "      <td>57.000000</td>\n",
       "      <td>35.400000</td>\n",
       "      <td>62.250000</td>\n",
       "      <td>81.000000</td>\n",
       "      <td>0.000000</td>\n",
       "      <td>0.000000</td>\n",
       "    </tr>\n",
       "    <tr>\n",
       "      <th>50%</th>\n",
       "      <td>68.000000</td>\n",
       "      <td>36.400000</td>\n",
       "      <td>84.000000</td>\n",
       "      <td>93.000000</td>\n",
       "      <td>115.000000</td>\n",
       "      <td>64.000000</td>\n",
       "    </tr>\n",
       "    <tr>\n",
       "      <th>75%</th>\n",
       "      <td>98.000000</td>\n",
       "      <td>36.900000</td>\n",
       "      <td>98.000000</td>\n",
       "      <td>96.000000</td>\n",
       "      <td>137.000000</td>\n",
       "      <td>79.000000</td>\n",
       "    </tr>\n",
       "    <tr>\n",
       "      <th>max</th>\n",
       "      <td>106.000000</td>\n",
       "      <td>40.100000</td>\n",
       "      <td>190.000000</td>\n",
       "      <td>99.000000</td>\n",
       "      <td>200.000000</td>\n",
       "      <td>127.000000</td>\n",
       "    </tr>\n",
       "  </tbody>\n",
       "</table>\n",
       "</div>"
      ],
      "text/plain": [
       "               AGE         TEMP   HEART_RATE       SAT_O2  BLOOD_PRES_SYS  \\\n",
       "count  2054.000000  2054.000000  2054.000000  2054.000000     2054.000000   \n",
       "mean     70.626582    28.386319    70.488802    73.392892       83.195716   \n",
       "std      20.568096    15.419158    40.226388    37.872514       65.742139   \n",
       "min       0.000000     0.000000     0.000000     0.000000        0.000000   \n",
       "25%      57.000000    35.400000    62.250000    81.000000        0.000000   \n",
       "50%      68.000000    36.400000    84.000000    93.000000      115.000000   \n",
       "75%      98.000000    36.900000    98.000000    96.000000      137.000000   \n",
       "max     106.000000    40.100000   190.000000    99.000000      200.000000   \n",
       "\n",
       "       BLOOD_PRES_DIAS  \n",
       "count      2054.000000  \n",
       "mean         47.555988  \n",
       "std          37.612679  \n",
       "min           0.000000  \n",
       "25%           0.000000  \n",
       "50%          64.000000  \n",
       "75%          79.000000  \n",
       "max         127.000000  "
      ]
     },
     "execution_count": 65,
     "metadata": {},
     "output_type": "execute_result"
    }
   ],
   "source": [
    "for metric in metrics_limits:\n",
    "  min_value, max_value = metrics_limits[metric]\n",
    "  mask = ~in_range(df_num[metric], min_value, max_value)\n",
    "  print(metric, mask.sum() - (df_num[metric ]== 0.0).sum())\n",
    "  df_num.loc[mask, metric] = 0.0\n",
    "\n",
    "df_num.describe()"
   ]
  },
  {
   "cell_type": "code",
   "execution_count": 66,
   "metadata": {},
   "outputs": [
    {
     "name": "stdout",
     "output_type": "stream",
     "text": [
      "AGE                False\n",
      "TEMP               False\n",
      "HEART_RATE         False\n",
      "SAT_O2             False\n",
      "BLOOD_PRES_SYS     False\n",
      "BLOOD_PRES_DIAS    False\n",
      "dtype: bool\n",
      "               AGE         TEMP   HEART_RATE       SAT_O2  BLOOD_PRES_SYS  \\\n",
      "count  2054.000000  2054.000000  2054.000000  2054.000000     2054.000000   \n",
      "mean     70.798926    36.739445    90.264339    92.427345      131.146585   \n",
      "std      20.269893     0.721404    14.950901     6.054193       18.187327   \n",
      "min      15.000000    33.200000    41.000000    40.000000       10.000000   \n",
      "25%      57.000000    36.300000    82.000000    92.000000      125.000000   \n",
      "50%      68.000000    36.739445    90.264339    93.000000      131.146585   \n",
      "75%      98.000000    36.900000    98.000000    96.000000      137.000000   \n",
      "max     106.000000    40.100000   190.000000    99.000000      200.000000   \n",
      "\n",
      "       BLOOD_PRES_DIAS  \n",
      "count      2054.000000  \n",
      "mean         75.023041  \n",
      "std          10.385303  \n",
      "min          11.000000  \n",
      "25%          72.000000  \n",
      "50%          75.023041  \n",
      "75%          79.000000  \n",
      "max         127.000000  \n"
     ]
    }
   ],
   "source": [
    "imp_num = SimpleImputer(missing_values=0.0, strategy='mean')\n",
    "df_num = pd.DataFrame(\n",
    "  imp_num.fit_transform(df_num),\n",
    "  columns=df_num.columns,\n",
    "  index=df_num.index\n",
    ")\n",
    "print(df_num.isnull().any())\n",
    "print(df_num.describe())"
   ]
  },
  {
   "cell_type": "markdown",
   "metadata": {},
   "source": [
    "## Merge all the processed variables"
   ]
  },
  {
   "cell_type": "code",
   "execution_count": 105,
   "metadata": {},
   "outputs": [
    {
     "name": "stdout",
     "output_type": "stream",
     "text": [
      "      SEX        AGE       TEMP  HEART_RATE     SAT_O2  BLOOD_PRES_SYS  \\\n",
      "ID                                                                       \n",
      "1       0  15.000000  37.000000   90.264339  92.000000      131.146585   \n",
      "2       0  18.000000  37.300000  105.000000  97.000000      131.146585   \n",
      "3       1  21.000000  38.500000  112.000000  95.000000       85.000000   \n",
      "4       1  21.000000  39.200000  113.000000  97.000000      131.146585   \n",
      "5       1  22.000000  36.300000   80.000000  92.000000      111.000000   \n",
      "...   ...        ...        ...         ...        ...             ...   \n",
      "2050    0  70.798926  36.739445   90.264339  92.427345      131.146585   \n",
      "2051    0  70.798926  36.500000   90.264339  92.427345      131.146585   \n",
      "2052    0  70.798926  36.800000  190.000000  98.000000      131.146585   \n",
      "2053    1  70.798926  36.739445  120.000000  93.000000      131.146585   \n",
      "2054    1  70.798926  36.800000   90.264339  92.427345      131.146585   \n",
      "\n",
      "      BLOOD_PRES_DIAS  \n",
      "ID                     \n",
      "1           75.023041  \n",
      "2           75.023041  \n",
      "3           47.000000  \n",
      "4           75.023041  \n",
      "5           70.000000  \n",
      "...               ...  \n",
      "2050        75.023041  \n",
      "2051        75.023041  \n",
      "2052        75.023041  \n",
      "2053        75.023041  \n",
      "2054        75.023041  \n",
      "\n",
      "[2054 rows x 7 columns]\n"
     ]
    }
   ],
   "source": [
    "df_processed = pd.merge(\n",
    "  left=df_cat,\n",
    "  right=df_num,\n",
    "  on='ID'\n",
    ")\n",
    "\n",
    "print(df_processed)"
   ]
  },
  {
   "cell_type": "code",
   "execution_count": 68,
   "metadata": {},
   "outputs": [
    {
     "data": {
      "text/html": [
       "<div>\n",
       "<style scoped>\n",
       "    .dataframe tbody tr th:only-of-type {\n",
       "        vertical-align: middle;\n",
       "    }\n",
       "\n",
       "    .dataframe tbody tr th {\n",
       "        vertical-align: top;\n",
       "    }\n",
       "\n",
       "    .dataframe thead th {\n",
       "        text-align: right;\n",
       "    }\n",
       "</style>\n",
       "<table border=\"1\" class=\"dataframe\">\n",
       "  <thead>\n",
       "    <tr style=\"text-align: right;\">\n",
       "      <th></th>\n",
       "      <th>SEX_FEMALE</th>\n",
       "      <th>SEX_MALE</th>\n",
       "      <th>AGE</th>\n",
       "      <th>TEMP</th>\n",
       "      <th>HEART_RATE</th>\n",
       "      <th>SAT_O2</th>\n",
       "      <th>BLOOD_PRES_SYS</th>\n",
       "      <th>BLOOD_PRES_DIAS</th>\n",
       "    </tr>\n",
       "  </thead>\n",
       "  <tbody>\n",
       "    <tr>\n",
       "      <th>count</th>\n",
       "      <td>2054.000000</td>\n",
       "      <td>2054.000000</td>\n",
       "      <td>2054.000000</td>\n",
       "      <td>2054.000000</td>\n",
       "      <td>2054.000000</td>\n",
       "      <td>2054.000000</td>\n",
       "      <td>2054.000000</td>\n",
       "      <td>2054.000000</td>\n",
       "    </tr>\n",
       "    <tr>\n",
       "      <th>mean</th>\n",
       "      <td>0.401655</td>\n",
       "      <td>0.598345</td>\n",
       "      <td>70.798926</td>\n",
       "      <td>36.739445</td>\n",
       "      <td>90.264339</td>\n",
       "      <td>92.427345</td>\n",
       "      <td>131.146585</td>\n",
       "      <td>75.023041</td>\n",
       "    </tr>\n",
       "    <tr>\n",
       "      <th>std</th>\n",
       "      <td>0.490352</td>\n",
       "      <td>0.490352</td>\n",
       "      <td>20.269893</td>\n",
       "      <td>0.721404</td>\n",
       "      <td>14.950901</td>\n",
       "      <td>6.054193</td>\n",
       "      <td>18.187327</td>\n",
       "      <td>10.385303</td>\n",
       "    </tr>\n",
       "    <tr>\n",
       "      <th>min</th>\n",
       "      <td>0.000000</td>\n",
       "      <td>0.000000</td>\n",
       "      <td>15.000000</td>\n",
       "      <td>33.200000</td>\n",
       "      <td>41.000000</td>\n",
       "      <td>40.000000</td>\n",
       "      <td>10.000000</td>\n",
       "      <td>11.000000</td>\n",
       "    </tr>\n",
       "    <tr>\n",
       "      <th>25%</th>\n",
       "      <td>0.000000</td>\n",
       "      <td>0.000000</td>\n",
       "      <td>57.000000</td>\n",
       "      <td>36.300000</td>\n",
       "      <td>82.000000</td>\n",
       "      <td>92.000000</td>\n",
       "      <td>125.000000</td>\n",
       "      <td>72.000000</td>\n",
       "    </tr>\n",
       "    <tr>\n",
       "      <th>50%</th>\n",
       "      <td>0.000000</td>\n",
       "      <td>1.000000</td>\n",
       "      <td>68.000000</td>\n",
       "      <td>36.739445</td>\n",
       "      <td>90.264339</td>\n",
       "      <td>93.000000</td>\n",
       "      <td>131.146585</td>\n",
       "      <td>75.023041</td>\n",
       "    </tr>\n",
       "    <tr>\n",
       "      <th>75%</th>\n",
       "      <td>1.000000</td>\n",
       "      <td>1.000000</td>\n",
       "      <td>98.000000</td>\n",
       "      <td>36.900000</td>\n",
       "      <td>98.000000</td>\n",
       "      <td>96.000000</td>\n",
       "      <td>137.000000</td>\n",
       "      <td>79.000000</td>\n",
       "    </tr>\n",
       "    <tr>\n",
       "      <th>max</th>\n",
       "      <td>1.000000</td>\n",
       "      <td>1.000000</td>\n",
       "      <td>106.000000</td>\n",
       "      <td>40.100000</td>\n",
       "      <td>190.000000</td>\n",
       "      <td>99.000000</td>\n",
       "      <td>200.000000</td>\n",
       "      <td>127.000000</td>\n",
       "    </tr>\n",
       "  </tbody>\n",
       "</table>\n",
       "</div>"
      ],
      "text/plain": [
       "        SEX_FEMALE     SEX_MALE          AGE         TEMP   HEART_RATE  \\\n",
       "count  2054.000000  2054.000000  2054.000000  2054.000000  2054.000000   \n",
       "mean      0.401655     0.598345    70.798926    36.739445    90.264339   \n",
       "std       0.490352     0.490352    20.269893     0.721404    14.950901   \n",
       "min       0.000000     0.000000    15.000000    33.200000    41.000000   \n",
       "25%       0.000000     0.000000    57.000000    36.300000    82.000000   \n",
       "50%       0.000000     1.000000    68.000000    36.739445    90.264339   \n",
       "75%       1.000000     1.000000    98.000000    36.900000    98.000000   \n",
       "max       1.000000     1.000000   106.000000    40.100000   190.000000   \n",
       "\n",
       "            SAT_O2  BLOOD_PRES_SYS  BLOOD_PRES_DIAS  \n",
       "count  2054.000000     2054.000000      2054.000000  \n",
       "mean     92.427345      131.146585        75.023041  \n",
       "std       6.054193       18.187327        10.385303  \n",
       "min      40.000000       10.000000        11.000000  \n",
       "25%      92.000000      125.000000        72.000000  \n",
       "50%      93.000000      131.146585        75.023041  \n",
       "75%      96.000000      137.000000        79.000000  \n",
       "max      99.000000      200.000000       127.000000  "
      ]
     },
     "execution_count": 68,
     "metadata": {},
     "output_type": "execute_result"
    }
   ],
   "source": [
    "df_processed.describe()"
   ]
  },
  {
   "cell_type": "markdown",
   "metadata": {},
   "source": [
    "## Feature Selection"
   ]
  },
  {
   "cell_type": "code",
   "execution_count": 104,
   "metadata": {},
   "outputs": [
    {
     "name": "stdout",
     "output_type": "stream",
     "text": [
      "      SEX_FEMALE        AGE     SAT_O2  BLOOD_PRES_SYS  BLOOD_PRES_DIAS\n",
      "ID                                                                     \n",
      "1            1.0  15.000000  92.000000      131.146585        75.023041\n",
      "2            1.0  18.000000  97.000000      131.146585        75.023041\n",
      "3            0.0  21.000000  95.000000       85.000000        47.000000\n",
      "4            0.0  21.000000  97.000000      131.146585        75.023041\n",
      "5            0.0  22.000000  92.000000      111.000000        70.000000\n",
      "...          ...        ...        ...             ...              ...\n",
      "2050         1.0  70.798926  92.427345      131.146585        75.023041\n",
      "2051         1.0  70.798926  92.427345      131.146585        75.023041\n",
      "2052         1.0  70.798926  98.000000      131.146585        75.023041\n",
      "2053         0.0  70.798926  93.000000      131.146585        75.023041\n",
      "2054         0.0  70.798926  92.427345      131.146585        75.023041\n",
      "\n",
      "[2054 rows x 5 columns]\n"
     ]
    }
   ],
   "source": [
    "from sklearn.feature_selection import SelectKBest, chi2\n",
    "\n",
    "fs_k_best_chi2 = SelectKBest(chi2, k=5)\n",
    "fs_k_best_chi2.fit(df_processed, df_exitus)\n",
    "col_filter = fs_k_best_chi2.get_support()\n",
    "df_k_best_chi2 = df_processed.iloc[:, col_filter]\n",
    "\n",
    "print(df_k_best_chi2)"
   ]
  },
  {
   "cell_type": "code",
   "execution_count": 70,
   "metadata": {},
   "outputs": [
    {
     "name": "stdout",
     "output_type": "stream",
     "text": [
      "            AGE       TEMP     SAT_O2\n",
      "ID                                   \n",
      "1     15.000000  37.000000  92.000000\n",
      "2     18.000000  37.300000  97.000000\n",
      "3     21.000000  38.500000  95.000000\n",
      "4     21.000000  39.200000  97.000000\n",
      "5     22.000000  36.300000  92.000000\n",
      "...         ...        ...        ...\n",
      "2050  70.798926  36.739445  92.427345\n",
      "2051  70.798926  36.500000  92.427345\n",
      "2052  70.798926  36.800000  98.000000\n",
      "2053  70.798926  36.739445  93.000000\n",
      "2054  70.798926  36.800000  92.427345\n",
      "\n",
      "[2054 rows x 3 columns]\n"
     ]
    }
   ],
   "source": [
    "from sklearn.feature_selection import SelectPercentile, mutual_info_classif\n",
    "\n",
    "fs_perc_mi = SelectPercentile(mutual_info_classif, percentile=40)\n",
    "fs_perc_mi.fit(df_processed, df_exitus['EXITUS'])\n",
    "col_filter = fs_perc_mi.get_support()\n",
    "df_perc_mi = df_processed.iloc[:, col_filter]\n",
    "\n",
    "print(df_perc_mi)"
   ]
  },
  {
   "cell_type": "markdown",
   "metadata": {},
   "source": [
    "### Feature Scaling"
   ]
  },
  {
   "cell_type": "code",
   "execution_count": 71,
   "metadata": {},
   "outputs": [
    {
     "name": "stdout",
     "output_type": "stream",
     "text": [
      "(2054, 8)\n",
      "[[1.         0.         0.         ... 0.88135593 0.6376136  0.55192277]\n",
      " [1.         0.         0.03296703 ... 0.96610169 0.6376136  0.55192277]\n",
      " [0.         1.         0.06593407 ... 0.93220339 0.39473684 0.31034483]\n",
      " ...\n",
      " [1.         0.         0.61317501 ... 0.98305085 0.6376136  0.55192277]\n",
      " [0.         1.         0.61317501 ... 0.89830508 0.6376136  0.55192277]\n",
      " [0.         1.         0.61317501 ... 0.88859907 0.6376136  0.55192277]]\n"
     ]
    }
   ],
   "source": [
    "from sklearn.preprocessing import MinMaxScaler\n",
    "\n",
    "mms = MinMaxScaler()\n",
    "# df_num_mms = mms.fit_transform(df_k_best_chi2)\n",
    "df_num_mms = mms.fit_transform(df_processed)\n",
    "print(df_num_mms.shape)\n",
    "print(df_num_mms)"
   ]
  },
  {
   "cell_type": "markdown",
   "metadata": {},
   "source": [
    "## DATA EXPLORATION"
   ]
  },
  {
   "cell_type": "code",
   "execution_count": 72,
   "metadata": {},
   "outputs": [
    {
     "name": "stdout",
     "output_type": "stream",
     "text": [
      "                AGE       TEMP  HEART_RATE     SAT_O2  BLOOD_PRES_SYS  \\\n",
      "SEX_MALE                                                                \n",
      "0.0       73.692602  36.647266   90.400523  92.839916      130.176762   \n",
      "1.0       68.856467  36.801323   90.172922  92.150396      131.797605   \n",
      "\n",
      "          BLOOD_PRES_DIAS  \n",
      "SEX_MALE                   \n",
      "0.0             73.735651  \n",
      "1.0             75.887237  \n"
     ]
    }
   ],
   "source": [
    "df_grouped_sex = df_processed.drop('SEX_FEMALE', axis=1).groupby(['SEX_MALE'])\n",
    "print(df_grouped_sex.mean())\n"
   ]
  },
  {
   "cell_type": "markdown",
   "metadata": {},
   "source": [
    "## DATA VISUALIZATION"
   ]
  },
  {
   "cell_type": "code",
   "execution_count": 73,
   "metadata": {},
   "outputs": [],
   "source": [
    "import matplotlib.pyplot as plt"
   ]
  },
  {
   "cell_type": "code",
   "execution_count": 74,
   "metadata": {},
   "outputs": [
    {
     "data": {
      "image/png": "[encoded data removed]",
      "text/plain": [
       "<Figure size 432x288 with 1 Axes>"
      ]
     },
     "metadata": {
      "needs_background": "light"
     },
     "output_type": "display_data"
    }
   ],
   "source": [
    "df_processed.plot(kind='scatter', x='AGE', y='HEART_RATE', title='Age vs Heart Rate')\n",
    "plt.show()"
   ]
  },
  {
   "cell_type": "code",
   "execution_count": 75,
   "metadata": {},
   "outputs": [
    {
     "data": {
      "text/html": [
       "<div>\n",
       "<style scoped>\n",
       "    .dataframe tbody tr th:only-of-type {\n",
       "        vertical-align: middle;\n",
       "    }\n",
       "\n",
       "    .dataframe tbody tr th {\n",
       "        vertical-align: top;\n",
       "    }\n",
       "\n",
       "    .dataframe thead th {\n",
       "        text-align: right;\n",
       "    }\n",
       "</style>\n",
       "<table border=\"1\" class=\"dataframe\">\n",
       "  <thead>\n",
       "    <tr style=\"text-align: right;\">\n",
       "      <th></th>\n",
       "      <th>AGE</th>\n",
       "      <th>HEART_RATE</th>\n",
       "    </tr>\n",
       "  </thead>\n",
       "  <tbody>\n",
       "    <tr>\n",
       "      <th>AGE</th>\n",
       "      <td>1.000000</td>\n",
       "      <td>-0.221838</td>\n",
       "    </tr>\n",
       "    <tr>\n",
       "      <th>HEART_RATE</th>\n",
       "      <td>-0.221838</td>\n",
       "      <td>1.000000</td>\n",
       "    </tr>\n",
       "  </tbody>\n",
       "</table>\n",
       "</div>"
      ],
      "text/plain": [
       "                 AGE  HEART_RATE\n",
       "AGE         1.000000   -0.221838\n",
       "HEART_RATE -0.221838    1.000000"
      ]
     },
     "execution_count": 75,
     "metadata": {},
     "output_type": "execute_result"
    }
   ],
   "source": [
    "df_processed.filter(['AGE', 'HEART_RATE']).corr()"
   ]
  },
  {
   "cell_type": "markdown",
   "metadata": {},
   "source": [
    "No correlation between age and heart rate"
   ]
  },
  {
   "cell_type": "code",
   "execution_count": 76,
   "metadata": {},
   "outputs": [
    {
     "data": {
      "image/png": "[encoded data removed]",
      "text/plain": [
       "<Figure size 432x288 with 1 Axes>"
      ]
     },
     "metadata": {
      "needs_background": "light"
     },
     "output_type": "display_data"
    }
   ],
   "source": [
    "df_processed.plot(kind='scatter', x='BLOOD_PRES_SYS', y='BLOOD_PRES_DIAS', title='Blood Preasure')\n",
    "plt.show()"
   ]
  },
  {
   "cell_type": "code",
   "execution_count": 77,
   "metadata": {},
   "outputs": [
    {
     "data": {
      "text/html": [
       "<div>\n",
       "<style scoped>\n",
       "    .dataframe tbody tr th:only-of-type {\n",
       "        vertical-align: middle;\n",
       "    }\n",
       "\n",
       "    .dataframe tbody tr th {\n",
       "        vertical-align: top;\n",
       "    }\n",
       "\n",
       "    .dataframe thead th {\n",
       "        text-align: right;\n",
       "    }\n",
       "</style>\n",
       "<table border=\"1\" class=\"dataframe\">\n",
       "  <thead>\n",
       "    <tr style=\"text-align: right;\">\n",
       "      <th></th>\n",
       "      <th>BLOOD_PRES_SYS</th>\n",
       "      <th>BLOOD_PRES_DIAS</th>\n",
       "    </tr>\n",
       "  </thead>\n",
       "  <tbody>\n",
       "    <tr>\n",
       "      <th>BLOOD_PRES_SYS</th>\n",
       "      <td>1.00000</td>\n",
       "      <td>0.49544</td>\n",
       "    </tr>\n",
       "    <tr>\n",
       "      <th>BLOOD_PRES_DIAS</th>\n",
       "      <td>0.49544</td>\n",
       "      <td>1.00000</td>\n",
       "    </tr>\n",
       "  </tbody>\n",
       "</table>\n",
       "</div>"
      ],
      "text/plain": [
       "                 BLOOD_PRES_SYS  BLOOD_PRES_DIAS\n",
       "BLOOD_PRES_SYS          1.00000          0.49544\n",
       "BLOOD_PRES_DIAS         0.49544          1.00000"
      ]
     },
     "execution_count": 77,
     "metadata": {},
     "output_type": "execute_result"
    }
   ],
   "source": [
    "df_processed.filter(['BLOOD_PRES_SYS', 'BLOOD_PRES_DIAS']).corr()"
   ]
  },
  {
   "cell_type": "code",
   "execution_count": 81,
   "metadata": {},
   "outputs": [],
   "source": [
    "import kaplanmeier as km"
   ]
  },
  {
   "cell_type": "code",
   "execution_count": 102,
   "metadata": {},
   "outputs": [
    {
     "data": {
      "image/png": "[encoded data removed]",
      "text/plain": [
       "<Figure size 720x432 with 2 Axes>"
      ]
     },
     "metadata": {
      "needs_background": "light"
     },
     "output_type": "display_data"
    }
   ],
   "source": [
    "out = km.fit(df_num['AGE'], df_exitus['EXITUS'], df_cat['SEX'])\n",
    "km.plot(out)"
   ]
  },
  {
   "cell_type": "markdown",
   "metadata": {},
   "source": [
    "## MODELING"
   ]
  },
  {
   "cell_type": "code",
   "execution_count": 78,
   "metadata": {},
   "outputs": [
    {
     "data": {
      "text/plain": [
       "ID\n",
       "1       0\n",
       "2       0\n",
       "3       0\n",
       "4       0\n",
       "5       0\n",
       "       ..\n",
       "2050    0\n",
       "2051    0\n",
       "2052    0\n",
       "2053    0\n",
       "2054    0\n",
       "Name: EXITUS, Length: 2054, dtype: int64"
      ]
     },
     "execution_count": 78,
     "metadata": {},
     "output_type": "execute_result"
    }
   ],
   "source": [
    "df_exitus['EXITUS'].apply(lambda x: 0 if x == 'NO' else 1)"
   ]
  },
  {
   "cell_type": "code",
   "execution_count": 103,
   "metadata": {},
   "outputs": [
    {
     "data": {
      "text/plain": [
       "SVC(kernel='linear')"
      ]
     },
     "execution_count": 103,
     "metadata": {},
     "output_type": "execute_result"
    }
   ],
   "source": [
    "from sklearn.svm import SVC\n",
    "\n",
    "svc_model = SVC(kernel='linear')\n",
    "svc_model.fit(df_num_mms, df_exitus['EXITUS'])"
   ]
  },
  {
   "cell_type": "code",
   "execution_count": 80,
   "metadata": {},
   "outputs": [
    {
     "ename": "KeyError",
     "evalue": "'cat'",
     "output_type": "error",
     "traceback": [
      "\u001b[0;31m---------------------------------------------------------------------------\u001b[0m",
      "\u001b[0;31mKeyError\u001b[0m                                  Traceback (most recent call last)",
      "\u001b[0;32m~/.local/lib/python3.9/site-packages/pandas/core/indexes/base.py\u001b[0m in \u001b[0;36mget_loc\u001b[0;34m(self, key, method, tolerance)\u001b[0m\n\u001b[1;32m   3360\u001b[0m             \u001b[0;32mtry\u001b[0m\u001b[0;34m:\u001b[0m\u001b[0;34m\u001b[0m\u001b[0;34m\u001b[0m\u001b[0m\n\u001b[0;32m-> 3361\u001b[0;31m                 \u001b[0;32mreturn\u001b[0m \u001b[0mself\u001b[0m\u001b[0;34m.\u001b[0m\u001b[0m_engine\u001b[0m\u001b[0;34m.\u001b[0m\u001b[0mget_loc\u001b[0m\u001b[0;34m(\u001b[0m\u001b[0mcasted_key\u001b[0m\u001b[0;34m)\u001b[0m\u001b[0;34m\u001b[0m\u001b[0;34m\u001b[0m\u001b[0m\n\u001b[0m\u001b[1;32m   3362\u001b[0m             \u001b[0;32mexcept\u001b[0m \u001b[0mKeyError\u001b[0m \u001b[0;32mas\u001b[0m \u001b[0merr\u001b[0m\u001b[0;34m:\u001b[0m\u001b[0;34m\u001b[0m\u001b[0;34m\u001b[0m\u001b[0m\n",
      "\u001b[0;32m~/.local/lib/python3.9/site-packages/pandas/_libs/index.pyx\u001b[0m in \u001b[0;36mpandas._libs.index.IndexEngine.get_loc\u001b[0;34m()\u001b[0m\n",
      "\u001b[0;32m~/.local/lib/python3.9/site-packages/pandas/_libs/index.pyx\u001b[0m in \u001b[0;36mpandas._libs.index.IndexEngine.get_loc\u001b[0;34m()\u001b[0m\n",
      "\u001b[0;32mpandas/_libs/hashtable_class_helper.pxi\u001b[0m in \u001b[0;36mpandas._libs.hashtable.PyObjectHashTable.get_item\u001b[0;34m()\u001b[0m\n",
      "\u001b[0;32mpandas/_libs/hashtable_class_helper.pxi\u001b[0m in \u001b[0;36mpandas._libs.hashtable.PyObjectHashTable.get_item\u001b[0;34m()\u001b[0m\n",
      "\u001b[0;31mKeyError\u001b[0m: 'cat'",
      "\nThe above exception was the direct cause of the following exception:\n",
      "\u001b[0;31mKeyError\u001b[0m                                  Traceback (most recent call last)",
      "\u001b[0;32m/tmp/ipykernel_77462/1111668026.py\u001b[0m in \u001b[0;36m<module>\u001b[0;34m\u001b[0m\n\u001b[1;32m      3\u001b[0m \u001b[0mx\u001b[0m \u001b[0;34m=\u001b[0m \u001b[0;34m[\u001b[0m\u001b[0;34m]\u001b[0m\u001b[0;34m\u001b[0m\u001b[0;34m\u001b[0m\u001b[0m\n\u001b[1;32m      4\u001b[0m \u001b[0my\u001b[0m \u001b[0;34m=\u001b[0m \u001b[0;34m[\u001b[0m\u001b[0;34m]\u001b[0m\u001b[0;34m\u001b[0m\u001b[0;34m\u001b[0m\u001b[0m\n\u001b[0;32m----> 5\u001b[0;31m \u001b[0mx_train\u001b[0m\u001b[0;34m,\u001b[0m \u001b[0mx_test\u001b[0m\u001b[0;34m,\u001b[0m \u001b[0my_train\u001b[0m\u001b[0;34m,\u001b[0m \u001b[0my_test\u001b[0m \u001b[0;34m=\u001b[0m \u001b[0mtrain_test_split\u001b[0m\u001b[0;34m(\u001b[0m\u001b[0mx\u001b[0m\u001b[0;34m,\u001b[0m \u001b[0my\u001b[0m\u001b[0;34m,\u001b[0m \u001b[0mtest_size\u001b[0m\u001b[0;34m=\u001b[0m\u001b[0;36m0.2\u001b[0m\u001b[0;34m,\u001b[0m \u001b[0mrandom_state\u001b[0m\u001b[0;34m=\u001b[0m\u001b[0;36m4\u001b[0m\u001b[0;34m,\u001b[0m \u001b[0mstratify\u001b[0m\u001b[0;34m=\u001b[0m\u001b[0mdf\u001b[0m\u001b[0;34m[\u001b[0m\u001b[0;34m'cat'\u001b[0m\u001b[0;34m]\u001b[0m\u001b[0;34m)\u001b[0m\u001b[0;34m\u001b[0m\u001b[0;34m\u001b[0m\u001b[0m\n\u001b[0m",
      "\u001b[0;32m~/.local/lib/python3.9/site-packages/pandas/core/frame.py\u001b[0m in \u001b[0;36m__getitem__\u001b[0;34m(self, key)\u001b[0m\n\u001b[1;32m   3456\u001b[0m             \u001b[0;32mif\u001b[0m \u001b[0mself\u001b[0m\u001b[0;34m.\u001b[0m\u001b[0mcolumns\u001b[0m\u001b[0;34m.\u001b[0m\u001b[0mnlevels\u001b[0m \u001b[0;34m>\u001b[0m \u001b[0;36m1\u001b[0m\u001b[0;34m:\u001b[0m\u001b[0;34m\u001b[0m\u001b[0;34m\u001b[0m\u001b[0m\n\u001b[1;32m   3457\u001b[0m                 \u001b[0;32mreturn\u001b[0m \u001b[0mself\u001b[0m\u001b[0;34m.\u001b[0m\u001b[0m_getitem_multilevel\u001b[0m\u001b[0;34m(\u001b[0m\u001b[0mkey\u001b[0m\u001b[0;34m)\u001b[0m\u001b[0;34m\u001b[0m\u001b[0;34m\u001b[0m\u001b[0m\n\u001b[0;32m-> 3458\u001b[0;31m             \u001b[0mindexer\u001b[0m \u001b[0;34m=\u001b[0m \u001b[0mself\u001b[0m\u001b[0;34m.\u001b[0m\u001b[0mcolumns\u001b[0m\u001b[0;34m.\u001b[0m\u001b[0mget_loc\u001b[0m\u001b[0;34m(\u001b[0m\u001b[0mkey\u001b[0m\u001b[0;34m)\u001b[0m\u001b[0;34m\u001b[0m\u001b[0;34m\u001b[0m\u001b[0m\n\u001b[0m\u001b[1;32m   3459\u001b[0m             \u001b[0;32mif\u001b[0m \u001b[0mis_integer\u001b[0m\u001b[0;34m(\u001b[0m\u001b[0mindexer\u001b[0m\u001b[0;34m)\u001b[0m\u001b[0;34m:\u001b[0m\u001b[0;34m\u001b[0m\u001b[0;34m\u001b[0m\u001b[0m\n\u001b[1;32m   3460\u001b[0m                 \u001b[0mindexer\u001b[0m \u001b[0;34m=\u001b[0m \u001b[0;34m[\u001b[0m\u001b[0mindexer\u001b[0m\u001b[0;34m]\u001b[0m\u001b[0;34m\u001b[0m\u001b[0;34m\u001b[0m\u001b[0m\n",
      "\u001b[0;32m~/.local/lib/python3.9/site-packages/pandas/core/indexes/base.py\u001b[0m in \u001b[0;36mget_loc\u001b[0;34m(self, key, method, tolerance)\u001b[0m\n\u001b[1;32m   3361\u001b[0m                 \u001b[0;32mreturn\u001b[0m \u001b[0mself\u001b[0m\u001b[0;34m.\u001b[0m\u001b[0m_engine\u001b[0m\u001b[0;34m.\u001b[0m\u001b[0mget_loc\u001b[0m\u001b[0;34m(\u001b[0m\u001b[0mcasted_key\u001b[0m\u001b[0;34m)\u001b[0m\u001b[0;34m\u001b[0m\u001b[0;34m\u001b[0m\u001b[0m\n\u001b[1;32m   3362\u001b[0m             \u001b[0;32mexcept\u001b[0m \u001b[0mKeyError\u001b[0m \u001b[0;32mas\u001b[0m \u001b[0merr\u001b[0m\u001b[0;34m:\u001b[0m\u001b[0;34m\u001b[0m\u001b[0;34m\u001b[0m\u001b[0m\n\u001b[0;32m-> 3363\u001b[0;31m                 \u001b[0;32mraise\u001b[0m \u001b[0mKeyError\u001b[0m\u001b[0;34m(\u001b[0m\u001b[0mkey\u001b[0m\u001b[0;34m)\u001b[0m \u001b[0;32mfrom\u001b[0m \u001b[0merr\u001b[0m\u001b[0;34m\u001b[0m\u001b[0;34m\u001b[0m\u001b[0m\n\u001b[0m\u001b[1;32m   3364\u001b[0m \u001b[0;34m\u001b[0m\u001b[0m\n\u001b[1;32m   3365\u001b[0m         \u001b[0;32mif\u001b[0m \u001b[0mis_scalar\u001b[0m\u001b[0;34m(\u001b[0m\u001b[0mkey\u001b[0m\u001b[0;34m)\u001b[0m \u001b[0;32mand\u001b[0m \u001b[0misna\u001b[0m\u001b[0;34m(\u001b[0m\u001b[0mkey\u001b[0m\u001b[0;34m)\u001b[0m \u001b[0;32mand\u001b[0m \u001b[0;32mnot\u001b[0m \u001b[0mself\u001b[0m\u001b[0;34m.\u001b[0m\u001b[0mhasnans\u001b[0m\u001b[0;34m:\u001b[0m\u001b[0;34m\u001b[0m\u001b[0;34m\u001b[0m\u001b[0m\n",
      "\u001b[0;31mKeyError\u001b[0m: 'cat'"
     ]
    }
   ],
   "source": [
    "from sklearn.model_selection import train_test_split\n",
    "\n",
    "x = []\n",
    "y = []\n",
    "#x_train, x_test, y_train, y_test = train_test_split(x, y, test_size=0.2, random_state=4, stratify=df['cat'])"
   ]
  },
  {
   "cell_type": "code",
   "execution_count": null,
   "metadata": {},
   "outputs": [
    {
     "data": {
      "text/plain": [
       "array([0])"
      ]
     },
     "execution_count": 109,
     "metadata": {},
     "output_type": "execute_result"
    }
   ],
   "source": [
    "svc_model.predict([[22,1,0,36.3,80,92,111,70]])"
   ]
  }
 ],
 "metadata": {
  "interpreter": {
   "hash": "f9f85f796d01129d0dd105a088854619f454435301f6ffec2fea96ecbd9be4ac"
  },
  "kernelspec": {
   "display_name": "Python 3.9.5 64-bit",
   "language": "python",
   "name": "python3"
  },
  "language_info": {
   "codemirror_mode": {
    "name": "ipython",
    "version": 3
   },
   "file_extension": ".py",
   "mimetype": "text/x-python",
   "name": "python",
   "nbconvert_exporter": "python",
   "pygments_lexer": "ipython3",
   "version": "3.9.9"
  },
  "orig_nbformat": 4
 },
 "nbformat": 4,
 "nbformat_minor": 2
}
